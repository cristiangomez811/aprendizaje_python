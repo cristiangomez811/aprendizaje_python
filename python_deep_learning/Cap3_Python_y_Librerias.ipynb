{
  "nbformat": 4,
  "nbformat_minor": 0,
  "metadata": {
    "colab": {
      "name": "Cap3_Python_y_Librerias.ipynb",
      "provenance": [],
      "authorship_tag": "ABX9TyMmVXlKD2AlXxaxsfMLzr5R",
      "include_colab_link": true
    },
    "kernelspec": {
      "name": "python3",
      "display_name": "Python 3"
    },
    "accelerator": "GPU"
  },
  "cells": [
    {
      "cell_type": "markdown",
      "metadata": {
        "id": "view-in-github",
        "colab_type": "text"
      },
      "source": [
        "<a href=\"https://colab.research.google.com/github/cristiangomez811/aprendizaje_python/blob/master/python_deep_learning/Cap3_Python_y_Librerias.ipynb\" target=\"_parent\"><img src=\"https://colab.research.google.com/assets/colab-badge.svg\" alt=\"Open In Colab\"/></a>"
      ]
    },
    {
      "cell_type": "markdown",
      "metadata": {
        "id": "wJTdwRupJA00",
        "colab_type": "text"
      },
      "source": [
        "# Cap 2 Entorno de trabajo \n",
        "\n",
        "En esta sección voy a colocar la parte de configuración  \n",
        "del entorno de trabajo del captitulo 2."
      ]
    },
    {
      "cell_type": "code",
      "metadata": {
        "id": "EbLN-U0aJgbf",
        "colab_type": "code",
        "colab": {}
      },
      "source": [
        "#Comando para especificar la versión de TensorFlow\n",
        "%tensorflow_version 2.x"
      ],
      "execution_count": 1,
      "outputs": []
    },
    {
      "cell_type": "code",
      "metadata": {
        "id": "jBQgNdDnJ8Tb",
        "colab_type": "code",
        "colab": {
          "base_uri": "https://localhost:8080/",
          "height": 35
        },
        "outputId": "2cf98792-70dd-4810-d7e9-ed174430c4b0"
      },
      "source": [
        "#Importar la libreria TF\n",
        "import tensorflow as tf\n",
        "\n",
        "#Validar si hay disponible una GPU\n",
        "print(\"GPU Available: \", tf.config.list_physical_devices('GPU'))"
      ],
      "execution_count": 2,
      "outputs": [
        {
          "output_type": "stream",
          "text": [
            "GPU Available:  [PhysicalDevice(name='/physical_device:GPU:0', device_type='GPU')]\n"
          ],
          "name": "stdout"
        }
      ]
    },
    {
      "cell_type": "code",
      "metadata": {
        "id": "lbpz8tWTKZu8",
        "colab_type": "code",
        "colab": {
          "base_uri": "https://localhost:8080/",
          "height": 35
        },
        "outputId": "be63e743-95eb-43fd-ec87-c37212861e9f"
      },
      "source": [
        "# Versión de TF \n",
        "print(tf.__version__)"
      ],
      "execution_count": 3,
      "outputs": [
        {
          "output_type": "stream",
          "text": [
            "2.3.0\n"
          ],
          "name": "stdout"
        }
      ]
    },
    {
      "cell_type": "code",
      "metadata": {
        "id": "Wq0ypt01MEox",
        "colab_type": "code",
        "colab": {
          "base_uri": "https://localhost:8080/",
          "height": 35
        },
        "outputId": "646e442e-50d7-485b-82f5-3524666b6219"
      },
      "source": [
        "#Para Keras\n",
        "from tensorflow import keras\n",
        "print(tf.keras.__version__)"
      ],
      "execution_count": 4,
      "outputs": [
        {
          "output_type": "stream",
          "text": [
            "2.4.0\n"
          ],
          "name": "stdout"
        }
      ]
    },
    {
      "cell_type": "markdown",
      "metadata": {
        "id": "2x43OK10M13e",
        "colab_type": "text"
      },
      "source": [
        "# Cap 3 Python y sus librerías\n",
        "\n",
        "Capitulo enfocado en el lenguaje python. \n",
        "\n"
      ]
    },
    {
      "cell_type": "code",
      "metadata": {
        "id": "QFHMNRlEMf78",
        "colab_type": "code",
        "colab": {
          "base_uri": "https://localhost:8080/",
          "height": 381
        },
        "outputId": "022861e5-4e12-416e-d4ab-557bf2b99651"
      },
      "source": [
        "#Comando help para python\n",
        "help()"
      ],
      "execution_count": 5,
      "outputs": [
        {
          "output_type": "stream",
          "text": [
            "\n",
            "Welcome to Python 3.6's help utility!\n",
            "\n",
            "If this is your first time using Python, you should definitely check out\n",
            "the tutorial on the Internet at https://docs.python.org/3.6/tutorial/.\n",
            "\n",
            "Enter the name of any module, keyword, or topic to get help on writing\n",
            "Python programs and using Python modules.  To quit this help utility and\n",
            "return to the interpreter, just type \"quit\".\n",
            "\n",
            "To get a list of available modules, keywords, symbols, or topics, type\n",
            "\"modules\", \"keywords\", \"symbols\", or \"topics\".  Each module also comes\n",
            "with a one-line summary of what it does; to list the modules whose name\n",
            "or summary contain a given string such as \"spam\", type \"modules spam\".\n",
            "\n",
            "help> quit\n",
            "\n",
            "You are now leaving help and returning to the Python interpreter.\n",
            "If you want to ask for help on a particular object directly from the\n",
            "interpreter, you can type \"help(object)\".  Executing \"help('string')\"\n",
            "has the same effect as typing a particular string at the help> prompt.\n"
          ],
          "name": "stdout"
        }
      ]
    },
    {
      "cell_type": "code",
      "metadata": {
        "id": "fgphM8FaNWHF",
        "colab_type": "code",
        "colab": {
          "base_uri": "https://localhost:8080/",
          "height": 1000
        },
        "outputId": "a4c8feff-457f-4ad6-db9d-61d63feda9f3"
      },
      "source": [
        "#Comando útil para ver los metodos de un objeto \n",
        "dir(str)"
      ],
      "execution_count": 6,
      "outputs": [
        {
          "output_type": "execute_result",
          "data": {
            "text/plain": [
              "['__add__',\n",
              " '__class__',\n",
              " '__contains__',\n",
              " '__delattr__',\n",
              " '__dir__',\n",
              " '__doc__',\n",
              " '__eq__',\n",
              " '__format__',\n",
              " '__ge__',\n",
              " '__getattribute__',\n",
              " '__getitem__',\n",
              " '__getnewargs__',\n",
              " '__gt__',\n",
              " '__hash__',\n",
              " '__init__',\n",
              " '__init_subclass__',\n",
              " '__iter__',\n",
              " '__le__',\n",
              " '__len__',\n",
              " '__lt__',\n",
              " '__mod__',\n",
              " '__mul__',\n",
              " '__ne__',\n",
              " '__new__',\n",
              " '__reduce__',\n",
              " '__reduce_ex__',\n",
              " '__repr__',\n",
              " '__rmod__',\n",
              " '__rmul__',\n",
              " '__setattr__',\n",
              " '__sizeof__',\n",
              " '__str__',\n",
              " '__subclasshook__',\n",
              " 'capitalize',\n",
              " 'casefold',\n",
              " 'center',\n",
              " 'count',\n",
              " 'encode',\n",
              " 'endswith',\n",
              " 'expandtabs',\n",
              " 'find',\n",
              " 'format',\n",
              " 'format_map',\n",
              " 'index',\n",
              " 'isalnum',\n",
              " 'isalpha',\n",
              " 'isdecimal',\n",
              " 'isdigit',\n",
              " 'isidentifier',\n",
              " 'islower',\n",
              " 'isnumeric',\n",
              " 'isprintable',\n",
              " 'isspace',\n",
              " 'istitle',\n",
              " 'isupper',\n",
              " 'join',\n",
              " 'ljust',\n",
              " 'lower',\n",
              " 'lstrip',\n",
              " 'maketrans',\n",
              " 'partition',\n",
              " 'replace',\n",
              " 'rfind',\n",
              " 'rindex',\n",
              " 'rjust',\n",
              " 'rpartition',\n",
              " 'rsplit',\n",
              " 'rstrip',\n",
              " 'split',\n",
              " 'splitlines',\n",
              " 'startswith',\n",
              " 'strip',\n",
              " 'swapcase',\n",
              " 'title',\n",
              " 'translate',\n",
              " 'upper',\n",
              " 'zfill']"
            ]
          },
          "metadata": {
            "tags": []
          },
          "execution_count": 6
        }
      ]
    },
    {
      "cell_type": "code",
      "metadata": {
        "id": "QEC8agDfNix9",
        "colab_type": "code",
        "colab": {
          "base_uri": "https://localhost:8080/",
          "height": 35
        },
        "outputId": "a169ea40-8ff7-497f-8a01-33e3764df980"
      },
      "source": [
        "#Importación de librerías mediante las palabras reservadas 'from' e 'import'\n",
        "from random import randint\n",
        "randomint = randint(1,100)\n",
        "print(randomint)"
      ],
      "execution_count": 7,
      "outputs": [
        {
          "output_type": "stream",
          "text": [
            "30\n"
          ],
          "name": "stdout"
        }
      ]
    },
    {
      "cell_type": "code",
      "metadata": {
        "id": "WxUI3o33OGWQ",
        "colab_type": "code",
        "colab": {
          "base_uri": "https://localhost:8080/",
          "height": 35
        },
        "outputId": "995cad4b-2265-4ea0-a87d-018cb61f8382"
      },
      "source": [
        "import random\n",
        "randomint = random.randint(1,100)\n",
        "print(randomint)"
      ],
      "execution_count": 8,
      "outputs": [
        {
          "output_type": "stream",
          "text": [
            "41\n"
          ],
          "name": "stdout"
        }
      ]
    },
    {
      "cell_type": "markdown",
      "metadata": {
        "id": "yLUblL24Our3",
        "colab_type": "text"
      },
      "source": [
        "### Tipos de datos y estructuras en python"
      ]
    },
    {
      "cell_type": "code",
      "metadata": {
        "id": "mvHoSoL8Ol7b",
        "colab_type": "code",
        "colab": {
          "base_uri": "https://localhost:8080/",
          "height": 156
        },
        "outputId": "43ed820c-04fa-4b29-e8cc-dcca33334622"
      },
      "source": [
        "# basicos\n",
        "\n",
        "x = 10 \n",
        "print(x)\n",
        "print(type(x))\n",
        "\n",
        "x = \"hola\"\n",
        "print(x)\n",
        "print(type(x))\n",
        "\n",
        "x = 10.0\n",
        "print(x)\n",
        "print(type(x))\n",
        "\n",
        "x = True\n",
        "print(x)\n",
        "print(type(x))"
      ],
      "execution_count": 9,
      "outputs": [
        {
          "output_type": "stream",
          "text": [
            "10\n",
            "<class 'int'>\n",
            "hola\n",
            "<class 'str'>\n",
            "10.0\n",
            "<class 'float'>\n",
            "True\n",
            "<class 'bool'>\n"
          ],
          "name": "stdout"
        }
      ]
    },
    {
      "cell_type": "code",
      "metadata": {
        "id": "5MjJztruPZ5Q",
        "colab_type": "code",
        "colab": {
          "base_uri": "https://localhost:8080/",
          "height": 87
        },
        "outputId": "950dda89-da2c-41ca-e9a4-5d2745a45780"
      },
      "source": [
        "#Operadores basicos\n",
        "print(5/2)\n",
        "print(5//2) #División redondeada\n",
        "print(5%2)\n",
        "print(5**2)\n"
      ],
      "execution_count": 10,
      "outputs": [
        {
          "output_type": "stream",
          "text": [
            "2.5\n",
            "2\n",
            "1\n",
            "25\n"
          ],
          "name": "stdout"
        }
      ]
    },
    {
      "cell_type": "code",
      "metadata": {
        "id": "1eNj1LldPgZB",
        "colab_type": "code",
        "colab": {
          "base_uri": "https://localhost:8080/",
          "height": 52
        },
        "outputId": "9fc2ddfa-5611-404b-e1a8-86cc9c0989a6"
      },
      "source": [
        "# operadores += y -= \n",
        "IntegerVar = 10 \n",
        "IntegerVar += 10 \n",
        "print (IntegerVar)\n",
        "\n",
        "StringVar = \"Deep\"\n",
        "StringVar += \" Learning\"\n",
        "print (StringVar)"
      ],
      "execution_count": 11,
      "outputs": [
        {
          "output_type": "stream",
          "text": [
            "20\n",
            "Deep Learning\n"
          ],
          "name": "stdout"
        }
      ]
    },
    {
      "cell_type": "code",
      "metadata": {
        "id": "SjKWoKE5P_Cn",
        "colab_type": "code",
        "colab": {
          "base_uri": "https://localhost:8080/",
          "height": 52
        },
        "outputId": "e34e3361-0e31-4093-db0d-a56f4efa2aed"
      },
      "source": [
        "# asigunasiones multiples\n",
        "IntegerVar, StringVar = StringVar, IntegerVar\n",
        "print(IntegerVar)\n",
        "print(StringVar)"
      ],
      "execution_count": 12,
      "outputs": [
        {
          "output_type": "stream",
          "text": [
            "Deep Learning\n",
            "20\n"
          ],
          "name": "stdout"
        }
      ]
    },
    {
      "cell_type": "markdown",
      "metadata": {
        "id": "_2UbyyWN94J_",
        "colab_type": "text"
      },
      "source": [
        "#### Estructuras de datos"
      ]
    },
    {
      "cell_type": "code",
      "metadata": {
        "id": "i3_T5KPl9-TE",
        "colab_type": "code",
        "colab": {
          "base_uri": "https://localhost:8080/",
          "height": 52
        },
        "outputId": "78a8dae7-136f-4c97-966c-8743214eb569"
      },
      "source": [
        "# listas\n",
        "x = [5,\"hello\",1.8]\n",
        "print(x)\n",
        "len(x)"
      ],
      "execution_count": 15,
      "outputs": [
        {
          "output_type": "stream",
          "text": [
            "[5, 'hello', 1.8]\n"
          ],
          "name": "stdout"
        },
        {
          "output_type": "execute_result",
          "data": {
            "text/plain": [
              "3"
            ]
          },
          "metadata": {
            "tags": []
          },
          "execution_count": 15
        }
      ]
    },
    {
      "cell_type": "code",
      "metadata": {
        "id": "zGrc_jFZ-IUg",
        "colab_type": "code",
        "colab": {
          "base_uri": "https://localhost:8080/",
          "height": 52
        },
        "outputId": "8f82309a-cd1e-4428-f823-3146d041fa12"
      },
      "source": [
        "x.append(100)\n",
        "print(x)\n",
        "print(len(x))"
      ],
      "execution_count": 16,
      "outputs": [
        {
          "output_type": "stream",
          "text": [
            "[5, 'hello', 1.8, 100]\n",
            "4\n"
          ],
          "name": "stdout"
        }
      ]
    },
    {
      "cell_type": "code",
      "metadata": {
        "id": "gL4a9wjz-WIj",
        "colab_type": "code",
        "colab": {
          "base_uri": "https://localhost:8080/",
          "height": 35
        },
        "outputId": "b2c5147d-e461-465e-beec-0194c4b4ef9d"
      },
      "source": [
        "x[1] = \"Deep\"\n",
        "print(x)"
      ],
      "execution_count": 18,
      "outputs": [
        {
          "output_type": "stream",
          "text": [
            "[5, 'Deep', 1.8, 100]\n"
          ],
          "name": "stdout"
        }
      ]
    },
    {
      "cell_type": "code",
      "metadata": {
        "id": "0mPRdfM5-bnz",
        "colab_type": "code",
        "colab": {
          "base_uri": "https://localhost:8080/",
          "height": 35
        },
        "outputId": "62991a0e-50a1-41f0-906f-82a8d8e1a666"
      },
      "source": [
        "# concatenar listas\n",
        "y = [2.1,\"learning\"]\n",
        "z = x + y\n",
        "print (z)"
      ],
      "execution_count": 20,
      "outputs": [
        {
          "output_type": "stream",
          "text": [
            "[5, 'Deep', 1.8, 100, 2.1, 'learning']\n"
          ],
          "name": "stdout"
        }
      ]
    },
    {
      "cell_type": "code",
      "metadata": {
        "id": "uygwZEfT-jwa",
        "colab_type": "code",
        "colab": {
          "base_uri": "https://localhost:8080/",
          "height": 87
        },
        "outputId": "009ddffa-b3c8-43f8-8995-30f7fe457ea4"
      },
      "source": [
        "#indexación de listas\n",
        "x = [5,\"deep\",1.8]\n",
        "print(\"primer elemento --> x[0]: \", x[0])\n",
        "print(\"segundo elemento --> x[1]: \", x[1])\n",
        "print(\"último elemento --> x[-1]: \", x[-1])\n",
        "print(\"penúltimo elemento --> x[-2]: \", x[-2])"
      ],
      "execution_count": 23,
      "outputs": [
        {
          "output_type": "stream",
          "text": [
            "primer elemento --> x[0]:  5\n",
            "segundo elemento --> x[1]:  deep\n",
            "último elemento --> x[-1]:  1.8\n",
            "penúltimo elemento --> x[-2]:  deep\n"
          ],
          "name": "stdout"
        }
      ]
    },
    {
      "cell_type": "code",
      "metadata": {
        "id": "Y3djauAy-24n",
        "colab_type": "code",
        "colab": {
          "base_uri": "https://localhost:8080/",
          "height": 87
        },
        "outputId": "95c72f4b-cb8a-4570-e0e2-bcf44f766c01"
      },
      "source": [
        "print(\"todos los índices --> x[:]: \", x[:])\n",
        "print(\"desde el índice 1 hasta el final --> x[1:]: \", x[1:])\n",
        "print(\"desde el índice 1 hasta el 2 (no se incluye el 2) [1,2) ) --> x[1:2]: \", x[1:2])\n",
        "print(\"desde el índice 0 hasta el final sin incluir al último --> x[:-1]: \", x[:-1])"
      ],
      "execution_count": 27,
      "outputs": [
        {
          "output_type": "stream",
          "text": [
            "todos los índices --> x[:]:  [5, 'deep', 1.8]\n",
            "desde el índice 1 hasta el final --> x[1:]:  ['deep', 1.8]\n",
            "desde el índice 1 hasta el 2 (no se incluye el 2) [1,2) ) --> x[1:2]:  ['deep']\n",
            "desde el índice 0 hasta el final sin incluir al último --> x[:-1]:  [5, 'deep']\n"
          ],
          "name": "stdout"
        }
      ]
    },
    {
      "cell_type": "code",
      "metadata": {
        "id": "h8779f94_djX",
        "colab_type": "code",
        "colab": {
          "base_uri": "https://localhost:8080/",
          "height": 52
        },
        "outputId": "d0588d49-7f08-400f-a6ad-6945c8a6c973"
      },
      "source": [
        "#tuplas, son colecciones ¡inmutables! \n",
        "x = (1,\"deep\",3)\n",
        "print(x)\n",
        "print(x[1])\n"
      ],
      "execution_count": 28,
      "outputs": [
        {
          "output_type": "stream",
          "text": [
            "(1, 'deep', 3)\n",
            "deep\n"
          ],
          "name": "stdout"
        }
      ]
    },
    {
      "cell_type": "code",
      "metadata": {
        "id": "HCy5hglxEaXw",
        "colab_type": "code",
        "colab": {
          "base_uri": "https://localhost:8080/",
          "height": 52
        },
        "outputId": "3bb40a93-5793-4e3e-a777-177b1d02ab04"
      },
      "source": [
        "x = x + (4,\"learning\")\n",
        "print(x)\n",
        "print(x[-1])"
      ],
      "execution_count": 29,
      "outputs": [
        {
          "output_type": "stream",
          "text": [
            "(1, 'deep', 3, 4, 'learning')\n",
            "learning\n"
          ],
          "name": "stdout"
        }
      ]
    },
    {
      "cell_type": "code",
      "metadata": {
        "id": "L4IL6zCyJnSd",
        "colab_type": "code",
        "colab": {
          "base_uri": "https://localhost:8080/",
          "height": 69
        },
        "outputId": "682958cc-2b18-44db-8dcf-4dc5114c37be"
      },
      "source": [
        "# Dicionarios\n",
        "persona = {'nombre': 'Cristian Gomez',\n",
        "           'profesion': 'Data Science'}\n",
        "print (persona)\n",
        "print (persona['nombre'])\n",
        "print (persona['profesion'])"
      ],
      "execution_count": 31,
      "outputs": [
        {
          "output_type": "stream",
          "text": [
            "{'nombre': 'Cristian Gomez', 'profesion': 'Data Science'}\n",
            "Cristian Gomez\n",
            "Data Science\n"
          ],
          "name": "stdout"
        }
      ]
    },
    {
      "cell_type": "code",
      "metadata": {
        "id": "EGqTDX9ZONtG",
        "colab_type": "code",
        "colab": {
          "base_uri": "https://localhost:8080/",
          "height": 35
        },
        "outputId": "e0c3ffda-adcf-45e6-800f-cdbd0ac9ebfc"
      },
      "source": [
        "persona['profesion'] = 'Ingeniero'\n",
        "print (persona)"
      ],
      "execution_count": 32,
      "outputs": [
        {
          "output_type": "stream",
          "text": [
            "{'nombre': 'Cristian Gomez', 'profesion': 'Ingeniero'}\n"
          ],
          "name": "stdout"
        }
      ]
    },
    {
      "cell_type": "code",
      "metadata": {
        "id": "8l0FQmN4OccS",
        "colab_type": "code",
        "colab": {
          "base_uri": "https://localhost:8080/",
          "height": 35
        },
        "outputId": "8d358754-5d0b-4b74-df36-cec6a3e872dc"
      },
      "source": [
        "persona['grupo'] = 24\n",
        "print (persona)"
      ],
      "execution_count": 34,
      "outputs": [
        {
          "output_type": "stream",
          "text": [
            "{'nombre': 'Cristian Gomez', 'profesion': 'Ingeniero', 'grupo': 24}\n"
          ],
          "name": "stdout"
        }
      ]
    },
    {
      "cell_type": "code",
      "metadata": {
        "id": "dJd1qByaO0Ub",
        "colab_type": "code",
        "colab": {
          "base_uri": "https://localhost:8080/",
          "height": 35
        },
        "outputId": "7a78793d-df61-4d5d-f979-271120ab5127"
      },
      "source": [
        "print (len(persona))"
      ],
      "execution_count": 35,
      "outputs": [
        {
          "output_type": "stream",
          "text": [
            "3\n"
          ],
          "name": "stdout"
        }
      ]
    },
    {
      "cell_type": "markdown",
      "metadata": {
        "id": "dlQ9b3twPLfp",
        "colab_type": "text"
      },
      "source": [
        "### Sentencias de control y funciones"
      ]
    },
    {
      "cell_type": "code",
      "metadata": {
        "id": "EjZOOi3zPI57",
        "colab_type": "code",
        "colab": {
          "base_uri": "https://localhost:8080/",
          "height": 35
        },
        "outputId": "0a9c2f86-2226-4d20-e239-ae415191a646"
      },
      "source": [
        "# setencia if\n",
        "x = 6.5 \n",
        "if x < 5: \n",
        "    puntuacion = 'baja'\n",
        "elif x <= 7: # elif = else if\n",
        "    puntuacion = 'media'\n",
        "else: \n",
        "    puntuacion = 'alta'\n",
        "\n",
        "print(puntuacion)"
      ],
      "execution_count": 36,
      "outputs": [
        {
          "output_type": "stream",
          "text": [
            "media\n"
          ],
          "name": "stdout"
        }
      ]
    },
    {
      "cell_type": "code",
      "metadata": {
        "id": "vqFMHicsQ1WW",
        "colab_type": "code",
        "colab": {
          "base_uri": "https://localhost:8080/",
          "height": 35
        },
        "outputId": "ed0b6fa4-16e4-4733-9d43-cb181eeaced2"
      },
      "source": [
        "b = 1\n",
        "print (\"Paris\" if b >= 92 else \"Barcelona\")"
      ],
      "execution_count": 37,
      "outputs": [
        {
          "output_type": "stream",
          "text": [
            "Barcelona\n"
          ],
          "name": "stdout"
        }
      ]
    },
    {
      "cell_type": "code",
      "metadata": {
        "id": "suMdp1p-RuGc",
        "colab_type": "code",
        "colab": {
          "base_uri": "https://localhost:8080/",
          "height": 69
        },
        "outputId": "96450a04-1866-496d-b1dc-1aee8b6d2ab7"
      },
      "source": [
        "# bucle for\n",
        "for a in range (1,4): \n",
        "    print (a)"
      ],
      "execution_count": 38,
      "outputs": [
        {
          "output_type": "stream",
          "text": [
            "1\n",
            "2\n",
            "3\n"
          ],
          "name": "stdout"
        }
      ]
    },
    {
      "cell_type": "code",
      "metadata": {
        "id": "DFc9W_CiUMEV",
        "colab_type": "code",
        "colab": {
          "base_uri": "https://localhost:8080/",
          "height": 69
        },
        "outputId": "e90333ea-32af-45af-b7cf-f94c1326983c"
      },
      "source": [
        "universidades = [\"UPB\",\"UdA\",\"UNAL\"]\n",
        "for universidad in universidades:\n",
        "    print (universidad)"
      ],
      "execution_count": 50,
      "outputs": [
        {
          "output_type": "stream",
          "text": [
            "UPB\n",
            "UdA\n",
            "UNAL\n"
          ],
          "name": "stdout"
        }
      ]
    },
    {
      "cell_type": "code",
      "metadata": {
        "id": "NAHw6rhxU8i-",
        "colab_type": "code",
        "colab": {
          "base_uri": "https://localhost:8080/",
          "height": 35
        },
        "outputId": "4318ee66-9ad0-4491-f90a-bab203fb18b7"
      },
      "source": [
        "for universidad in universidades:\n",
        "    if universidad == \"UdA\":\n",
        "        break #termina el bucle, no procesa más elementos de la lista\n",
        "    print (universidad)"
      ],
      "execution_count": 52,
      "outputs": [
        {
          "output_type": "stream",
          "text": [
            "UPB\n"
          ],
          "name": "stdout"
        }
      ]
    },
    {
      "cell_type": "code",
      "metadata": {
        "id": "oPviorpfVfP7",
        "colab_type": "code",
        "colab": {
          "base_uri": "https://localhost:8080/",
          "height": 52
        },
        "outputId": "68ced269-539f-4cc2-e003-c0cfe1306e00"
      },
      "source": [
        "for universidad in universidades:\n",
        "    if universidad == \"UdA\":\n",
        "        continue #omite el item acual, pero continua el bucle\n",
        "    print (universidad)"
      ],
      "execution_count": 54,
      "outputs": [
        {
          "output_type": "stream",
          "text": [
            "UPB\n",
            "UNAL\n"
          ],
          "name": "stdout"
        }
      ]
    },
    {
      "cell_type": "code",
      "metadata": {
        "id": "t3q1zqkXXJk8",
        "colab_type": "code",
        "colab": {}
      },
      "source": [
        ""
      ],
      "execution_count": null,
      "outputs": []
    }
  ]
}