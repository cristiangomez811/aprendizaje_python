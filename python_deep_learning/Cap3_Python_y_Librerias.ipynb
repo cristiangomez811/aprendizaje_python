{
  "nbformat": 4,
  "nbformat_minor": 0,
  "metadata": {
    "colab": {
      "name": "Cap3_Python_y_Librerias.ipynb",
      "provenance": [],
      "toc_visible": true,
      "authorship_tag": "ABX9TyN/4vcXANVuRIiBcRpnct8Z",
      "include_colab_link": true
    },
    "kernelspec": {
      "name": "python3",
      "display_name": "Python 3"
    },
    "accelerator": "GPU"
  },
  "cells": [
    {
      "cell_type": "markdown",
      "metadata": {
        "id": "view-in-github",
        "colab_type": "text"
      },
      "source": [
        "<a href=\"https://colab.research.google.com/github/cristiangomez811/aprendizaje_python/blob/master/python_deep_learning/Cap3_Python_y_Librerias.ipynb\" target=\"_parent\"><img src=\"https://colab.research.google.com/assets/colab-badge.svg\" alt=\"Open In Colab\"/></a>"
      ]
    },
    {
      "cell_type": "markdown",
      "metadata": {
        "id": "wJTdwRupJA00",
        "colab_type": "text"
      },
      "source": [
        "# Cap 2 Entorno de trabajo \n",
        "\n",
        "En esta sección voy a colocar la parte de configuración  \n",
        "del entorno de trabajo del captitulo 2."
      ]
    },
    {
      "cell_type": "code",
      "metadata": {
        "id": "EbLN-U0aJgbf",
        "colab_type": "code",
        "colab": {}
      },
      "source": [
        "#Comando para especificar la versión de TensorFlow\n",
        "%tensorflow_version 2.x"
      ],
      "execution_count": 1,
      "outputs": []
    },
    {
      "cell_type": "code",
      "metadata": {
        "id": "jBQgNdDnJ8Tb",
        "colab_type": "code",
        "colab": {
          "base_uri": "https://localhost:8080/",
          "height": 34
        },
        "outputId": "ded08867-d32f-46da-9592-40df457c0379"
      },
      "source": [
        "#Importar la libreria TF\n",
        "import tensorflow as tf\n",
        "\n",
        "#Validar si hay disponible una GPU\n",
        "print(\"GPU Available: \", tf.config.list_physical_devices('GPU'))"
      ],
      "execution_count": 2,
      "outputs": [
        {
          "output_type": "stream",
          "text": [
            "GPU Available:  [PhysicalDevice(name='/physical_device:GPU:0', device_type='GPU')]\n"
          ],
          "name": "stdout"
        }
      ]
    },
    {
      "cell_type": "code",
      "metadata": {
        "id": "lbpz8tWTKZu8",
        "colab_type": "code",
        "colab": {
          "base_uri": "https://localhost:8080/",
          "height": 34
        },
        "outputId": "c3fce13f-02bf-4f3a-fc8e-da4090daff2f"
      },
      "source": [
        "# Versión de TF \n",
        "print(tf.__version__)"
      ],
      "execution_count": 3,
      "outputs": [
        {
          "output_type": "stream",
          "text": [
            "2.3.0\n"
          ],
          "name": "stdout"
        }
      ]
    },
    {
      "cell_type": "code",
      "metadata": {
        "id": "Wq0ypt01MEox",
        "colab_type": "code",
        "colab": {
          "base_uri": "https://localhost:8080/",
          "height": 34
        },
        "outputId": "35a7b639-84a4-4f96-b437-41d52733d56b"
      },
      "source": [
        "#Para Keras\n",
        "from tensorflow import keras\n",
        "print(tf.keras.__version__)"
      ],
      "execution_count": 4,
      "outputs": [
        {
          "output_type": "stream",
          "text": [
            "2.4.0\n"
          ],
          "name": "stdout"
        }
      ]
    },
    {
      "cell_type": "markdown",
      "metadata": {
        "id": "2x43OK10M13e",
        "colab_type": "text"
      },
      "source": [
        "# Cap 3 Python y sus librerías\n",
        "\n",
        "Capitulo enfocado en el lenguaje python. \n",
        "\n"
      ]
    },
    {
      "cell_type": "code",
      "metadata": {
        "id": "QFHMNRlEMf78",
        "colab_type": "code",
        "colab": {
          "base_uri": "https://localhost:8080/",
          "height": 1000
        },
        "outputId": "7716b7d1-79ca-4e0a-deca-852fdcd319bb"
      },
      "source": [
        "#Comando help para python\n",
        "help(str)"
      ],
      "execution_count": 5,
      "outputs": [
        {
          "output_type": "stream",
          "text": [
            "Help on class str in module builtins:\n",
            "\n",
            "class str(object)\n",
            " |  str(object='') -> str\n",
            " |  str(bytes_or_buffer[, encoding[, errors]]) -> str\n",
            " |  \n",
            " |  Create a new string object from the given object. If encoding or\n",
            " |  errors is specified, then the object must expose a data buffer\n",
            " |  that will be decoded using the given encoding and error handler.\n",
            " |  Otherwise, returns the result of object.__str__() (if defined)\n",
            " |  or repr(object).\n",
            " |  encoding defaults to sys.getdefaultencoding().\n",
            " |  errors defaults to 'strict'.\n",
            " |  \n",
            " |  Methods defined here:\n",
            " |  \n",
            " |  __add__(self, value, /)\n",
            " |      Return self+value.\n",
            " |  \n",
            " |  __contains__(self, key, /)\n",
            " |      Return key in self.\n",
            " |  \n",
            " |  __eq__(self, value, /)\n",
            " |      Return self==value.\n",
            " |  \n",
            " |  __format__(...)\n",
            " |      S.__format__(format_spec) -> str\n",
            " |      \n",
            " |      Return a formatted version of S as described by format_spec.\n",
            " |  \n",
            " |  __ge__(self, value, /)\n",
            " |      Return self>=value.\n",
            " |  \n",
            " |  __getattribute__(self, name, /)\n",
            " |      Return getattr(self, name).\n",
            " |  \n",
            " |  __getitem__(self, key, /)\n",
            " |      Return self[key].\n",
            " |  \n",
            " |  __getnewargs__(...)\n",
            " |  \n",
            " |  __gt__(self, value, /)\n",
            " |      Return self>value.\n",
            " |  \n",
            " |  __hash__(self, /)\n",
            " |      Return hash(self).\n",
            " |  \n",
            " |  __iter__(self, /)\n",
            " |      Implement iter(self).\n",
            " |  \n",
            " |  __le__(self, value, /)\n",
            " |      Return self<=value.\n",
            " |  \n",
            " |  __len__(self, /)\n",
            " |      Return len(self).\n",
            " |  \n",
            " |  __lt__(self, value, /)\n",
            " |      Return self<value.\n",
            " |  \n",
            " |  __mod__(self, value, /)\n",
            " |      Return self%value.\n",
            " |  \n",
            " |  __mul__(self, value, /)\n",
            " |      Return self*value.\n",
            " |  \n",
            " |  __ne__(self, value, /)\n",
            " |      Return self!=value.\n",
            " |  \n",
            " |  __new__(*args, **kwargs) from builtins.type\n",
            " |      Create and return a new object.  See help(type) for accurate signature.\n",
            " |  \n",
            " |  __repr__(self, /)\n",
            " |      Return repr(self).\n",
            " |  \n",
            " |  __rmod__(self, value, /)\n",
            " |      Return value%self.\n",
            " |  \n",
            " |  __rmul__(self, value, /)\n",
            " |      Return value*self.\n",
            " |  \n",
            " |  __sizeof__(...)\n",
            " |      S.__sizeof__() -> size of S in memory, in bytes\n",
            " |  \n",
            " |  __str__(self, /)\n",
            " |      Return str(self).\n",
            " |  \n",
            " |  capitalize(...)\n",
            " |      S.capitalize() -> str\n",
            " |      \n",
            " |      Return a capitalized version of S, i.e. make the first character\n",
            " |      have upper case and the rest lower case.\n",
            " |  \n",
            " |  casefold(...)\n",
            " |      S.casefold() -> str\n",
            " |      \n",
            " |      Return a version of S suitable for caseless comparisons.\n",
            " |  \n",
            " |  center(...)\n",
            " |      S.center(width[, fillchar]) -> str\n",
            " |      \n",
            " |      Return S centered in a string of length width. Padding is\n",
            " |      done using the specified fill character (default is a space)\n",
            " |  \n",
            " |  count(...)\n",
            " |      S.count(sub[, start[, end]]) -> int\n",
            " |      \n",
            " |      Return the number of non-overlapping occurrences of substring sub in\n",
            " |      string S[start:end].  Optional arguments start and end are\n",
            " |      interpreted as in slice notation.\n",
            " |  \n",
            " |  encode(...)\n",
            " |      S.encode(encoding='utf-8', errors='strict') -> bytes\n",
            " |      \n",
            " |      Encode S using the codec registered for encoding. Default encoding\n",
            " |      is 'utf-8'. errors may be given to set a different error\n",
            " |      handling scheme. Default is 'strict' meaning that encoding errors raise\n",
            " |      a UnicodeEncodeError. Other possible values are 'ignore', 'replace' and\n",
            " |      'xmlcharrefreplace' as well as any other name registered with\n",
            " |      codecs.register_error that can handle UnicodeEncodeErrors.\n",
            " |  \n",
            " |  endswith(...)\n",
            " |      S.endswith(suffix[, start[, end]]) -> bool\n",
            " |      \n",
            " |      Return True if S ends with the specified suffix, False otherwise.\n",
            " |      With optional start, test S beginning at that position.\n",
            " |      With optional end, stop comparing S at that position.\n",
            " |      suffix can also be a tuple of strings to try.\n",
            " |  \n",
            " |  expandtabs(...)\n",
            " |      S.expandtabs(tabsize=8) -> str\n",
            " |      \n",
            " |      Return a copy of S where all tab characters are expanded using spaces.\n",
            " |      If tabsize is not given, a tab size of 8 characters is assumed.\n",
            " |  \n",
            " |  find(...)\n",
            " |      S.find(sub[, start[, end]]) -> int\n",
            " |      \n",
            " |      Return the lowest index in S where substring sub is found,\n",
            " |      such that sub is contained within S[start:end].  Optional\n",
            " |      arguments start and end are interpreted as in slice notation.\n",
            " |      \n",
            " |      Return -1 on failure.\n",
            " |  \n",
            " |  format(...)\n",
            " |      S.format(*args, **kwargs) -> str\n",
            " |      \n",
            " |      Return a formatted version of S, using substitutions from args and kwargs.\n",
            " |      The substitutions are identified by braces ('{' and '}').\n",
            " |  \n",
            " |  format_map(...)\n",
            " |      S.format_map(mapping) -> str\n",
            " |      \n",
            " |      Return a formatted version of S, using substitutions from mapping.\n",
            " |      The substitutions are identified by braces ('{' and '}').\n",
            " |  \n",
            " |  index(...)\n",
            " |      S.index(sub[, start[, end]]) -> int\n",
            " |      \n",
            " |      Return the lowest index in S where substring sub is found, \n",
            " |      such that sub is contained within S[start:end].  Optional\n",
            " |      arguments start and end are interpreted as in slice notation.\n",
            " |      \n",
            " |      Raises ValueError when the substring is not found.\n",
            " |  \n",
            " |  isalnum(...)\n",
            " |      S.isalnum() -> bool\n",
            " |      \n",
            " |      Return True if all characters in S are alphanumeric\n",
            " |      and there is at least one character in S, False otherwise.\n",
            " |  \n",
            " |  isalpha(...)\n",
            " |      S.isalpha() -> bool\n",
            " |      \n",
            " |      Return True if all characters in S are alphabetic\n",
            " |      and there is at least one character in S, False otherwise.\n",
            " |  \n",
            " |  isdecimal(...)\n",
            " |      S.isdecimal() -> bool\n",
            " |      \n",
            " |      Return True if there are only decimal characters in S,\n",
            " |      False otherwise.\n",
            " |  \n",
            " |  isdigit(...)\n",
            " |      S.isdigit() -> bool\n",
            " |      \n",
            " |      Return True if all characters in S are digits\n",
            " |      and there is at least one character in S, False otherwise.\n",
            " |  \n",
            " |  isidentifier(...)\n",
            " |      S.isidentifier() -> bool\n",
            " |      \n",
            " |      Return True if S is a valid identifier according\n",
            " |      to the language definition.\n",
            " |      \n",
            " |      Use keyword.iskeyword() to test for reserved identifiers\n",
            " |      such as \"def\" and \"class\".\n",
            " |  \n",
            " |  islower(...)\n",
            " |      S.islower() -> bool\n",
            " |      \n",
            " |      Return True if all cased characters in S are lowercase and there is\n",
            " |      at least one cased character in S, False otherwise.\n",
            " |  \n",
            " |  isnumeric(...)\n",
            " |      S.isnumeric() -> bool\n",
            " |      \n",
            " |      Return True if there are only numeric characters in S,\n",
            " |      False otherwise.\n",
            " |  \n",
            " |  isprintable(...)\n",
            " |      S.isprintable() -> bool\n",
            " |      \n",
            " |      Return True if all characters in S are considered\n",
            " |      printable in repr() or S is empty, False otherwise.\n",
            " |  \n",
            " |  isspace(...)\n",
            " |      S.isspace() -> bool\n",
            " |      \n",
            " |      Return True if all characters in S are whitespace\n",
            " |      and there is at least one character in S, False otherwise.\n",
            " |  \n",
            " |  istitle(...)\n",
            " |      S.istitle() -> bool\n",
            " |      \n",
            " |      Return True if S is a titlecased string and there is at least one\n",
            " |      character in S, i.e. upper- and titlecase characters may only\n",
            " |      follow uncased characters and lowercase characters only cased ones.\n",
            " |      Return False otherwise.\n",
            " |  \n",
            " |  isupper(...)\n",
            " |      S.isupper() -> bool\n",
            " |      \n",
            " |      Return True if all cased characters in S are uppercase and there is\n",
            " |      at least one cased character in S, False otherwise.\n",
            " |  \n",
            " |  join(...)\n",
            " |      S.join(iterable) -> str\n",
            " |      \n",
            " |      Return a string which is the concatenation of the strings in the\n",
            " |      iterable.  The separator between elements is S.\n",
            " |  \n",
            " |  ljust(...)\n",
            " |      S.ljust(width[, fillchar]) -> str\n",
            " |      \n",
            " |      Return S left-justified in a Unicode string of length width. Padding is\n",
            " |      done using the specified fill character (default is a space).\n",
            " |  \n",
            " |  lower(...)\n",
            " |      S.lower() -> str\n",
            " |      \n",
            " |      Return a copy of the string S converted to lowercase.\n",
            " |  \n",
            " |  lstrip(...)\n",
            " |      S.lstrip([chars]) -> str\n",
            " |      \n",
            " |      Return a copy of the string S with leading whitespace removed.\n",
            " |      If chars is given and not None, remove characters in chars instead.\n",
            " |  \n",
            " |  partition(...)\n",
            " |      S.partition(sep) -> (head, sep, tail)\n",
            " |      \n",
            " |      Search for the separator sep in S, and return the part before it,\n",
            " |      the separator itself, and the part after it.  If the separator is not\n",
            " |      found, return S and two empty strings.\n",
            " |  \n",
            " |  replace(...)\n",
            " |      S.replace(old, new[, count]) -> str\n",
            " |      \n",
            " |      Return a copy of S with all occurrences of substring\n",
            " |      old replaced by new.  If the optional argument count is\n",
            " |      given, only the first count occurrences are replaced.\n",
            " |  \n",
            " |  rfind(...)\n",
            " |      S.rfind(sub[, start[, end]]) -> int\n",
            " |      \n",
            " |      Return the highest index in S where substring sub is found,\n",
            " |      such that sub is contained within S[start:end].  Optional\n",
            " |      arguments start and end are interpreted as in slice notation.\n",
            " |      \n",
            " |      Return -1 on failure.\n",
            " |  \n",
            " |  rindex(...)\n",
            " |      S.rindex(sub[, start[, end]]) -> int\n",
            " |      \n",
            " |      Return the highest index in S where substring sub is found,\n",
            " |      such that sub is contained within S[start:end].  Optional\n",
            " |      arguments start and end are interpreted as in slice notation.\n",
            " |      \n",
            " |      Raises ValueError when the substring is not found.\n",
            " |  \n",
            " |  rjust(...)\n",
            " |      S.rjust(width[, fillchar]) -> str\n",
            " |      \n",
            " |      Return S right-justified in a string of length width. Padding is\n",
            " |      done using the specified fill character (default is a space).\n",
            " |  \n",
            " |  rpartition(...)\n",
            " |      S.rpartition(sep) -> (head, sep, tail)\n",
            " |      \n",
            " |      Search for the separator sep in S, starting at the end of S, and return\n",
            " |      the part before it, the separator itself, and the part after it.  If the\n",
            " |      separator is not found, return two empty strings and S.\n",
            " |  \n",
            " |  rsplit(...)\n",
            " |      S.rsplit(sep=None, maxsplit=-1) -> list of strings\n",
            " |      \n",
            " |      Return a list of the words in S, using sep as the\n",
            " |      delimiter string, starting at the end of the string and\n",
            " |      working to the front.  If maxsplit is given, at most maxsplit\n",
            " |      splits are done. If sep is not specified, any whitespace string\n",
            " |      is a separator.\n",
            " |  \n",
            " |  rstrip(...)\n",
            " |      S.rstrip([chars]) -> str\n",
            " |      \n",
            " |      Return a copy of the string S with trailing whitespace removed.\n",
            " |      If chars is given and not None, remove characters in chars instead.\n",
            " |  \n",
            " |  split(...)\n",
            " |      S.split(sep=None, maxsplit=-1) -> list of strings\n",
            " |      \n",
            " |      Return a list of the words in S, using sep as the\n",
            " |      delimiter string.  If maxsplit is given, at most maxsplit\n",
            " |      splits are done. If sep is not specified or is None, any\n",
            " |      whitespace string is a separator and empty strings are\n",
            " |      removed from the result.\n",
            " |  \n",
            " |  splitlines(...)\n",
            " |      S.splitlines([keepends]) -> list of strings\n",
            " |      \n",
            " |      Return a list of the lines in S, breaking at line boundaries.\n",
            " |      Line breaks are not included in the resulting list unless keepends\n",
            " |      is given and true.\n",
            " |  \n",
            " |  startswith(...)\n",
            " |      S.startswith(prefix[, start[, end]]) -> bool\n",
            " |      \n",
            " |      Return True if S starts with the specified prefix, False otherwise.\n",
            " |      With optional start, test S beginning at that position.\n",
            " |      With optional end, stop comparing S at that position.\n",
            " |      prefix can also be a tuple of strings to try.\n",
            " |  \n",
            " |  strip(...)\n",
            " |      S.strip([chars]) -> str\n",
            " |      \n",
            " |      Return a copy of the string S with leading and trailing\n",
            " |      whitespace removed.\n",
            " |      If chars is given and not None, remove characters in chars instead.\n",
            " |  \n",
            " |  swapcase(...)\n",
            " |      S.swapcase() -> str\n",
            " |      \n",
            " |      Return a copy of S with uppercase characters converted to lowercase\n",
            " |      and vice versa.\n",
            " |  \n",
            " |  title(...)\n",
            " |      S.title() -> str\n",
            " |      \n",
            " |      Return a titlecased version of S, i.e. words start with title case\n",
            " |      characters, all remaining cased characters have lower case.\n",
            " |  \n",
            " |  translate(...)\n",
            " |      S.translate(table) -> str\n",
            " |      \n",
            " |      Return a copy of the string S in which each character has been mapped\n",
            " |      through the given translation table. The table must implement\n",
            " |      lookup/indexing via __getitem__, for instance a dictionary or list,\n",
            " |      mapping Unicode ordinals to Unicode ordinals, strings, or None. If\n",
            " |      this operation raises LookupError, the character is left untouched.\n",
            " |      Characters mapped to None are deleted.\n",
            " |  \n",
            " |  upper(...)\n",
            " |      S.upper() -> str\n",
            " |      \n",
            " |      Return a copy of S converted to uppercase.\n",
            " |  \n",
            " |  zfill(...)\n",
            " |      S.zfill(width) -> str\n",
            " |      \n",
            " |      Pad a numeric string S with zeros on the left, to fill a field\n",
            " |      of the specified width. The string S is never truncated.\n",
            " |  \n",
            " |  ----------------------------------------------------------------------\n",
            " |  Static methods defined here:\n",
            " |  \n",
            " |  maketrans(x, y=None, z=None, /)\n",
            " |      Return a translation table usable for str.translate().\n",
            " |      \n",
            " |      If there is only one argument, it must be a dictionary mapping Unicode\n",
            " |      ordinals (integers) or characters to Unicode ordinals, strings or None.\n",
            " |      Character keys will be then converted to ordinals.\n",
            " |      If there are two arguments, they must be strings of equal length, and\n",
            " |      in the resulting dictionary, each character in x will be mapped to the\n",
            " |      character at the same position in y. If there is a third argument, it\n",
            " |      must be a string, whose characters will be mapped to None in the result.\n",
            "\n"
          ],
          "name": "stdout"
        }
      ]
    },
    {
      "cell_type": "code",
      "metadata": {
        "id": "fgphM8FaNWHF",
        "colab_type": "code",
        "colab": {
          "base_uri": "https://localhost:8080/",
          "height": 1000
        },
        "outputId": "de4fe821-1110-49b6-e7ec-e43609bbfb48"
      },
      "source": [
        "#Comando útil para ver los metodos de un objeto \n",
        "dir(str)"
      ],
      "execution_count": 6,
      "outputs": [
        {
          "output_type": "execute_result",
          "data": {
            "text/plain": [
              "['__add__',\n",
              " '__class__',\n",
              " '__contains__',\n",
              " '__delattr__',\n",
              " '__dir__',\n",
              " '__doc__',\n",
              " '__eq__',\n",
              " '__format__',\n",
              " '__ge__',\n",
              " '__getattribute__',\n",
              " '__getitem__',\n",
              " '__getnewargs__',\n",
              " '__gt__',\n",
              " '__hash__',\n",
              " '__init__',\n",
              " '__init_subclass__',\n",
              " '__iter__',\n",
              " '__le__',\n",
              " '__len__',\n",
              " '__lt__',\n",
              " '__mod__',\n",
              " '__mul__',\n",
              " '__ne__',\n",
              " '__new__',\n",
              " '__reduce__',\n",
              " '__reduce_ex__',\n",
              " '__repr__',\n",
              " '__rmod__',\n",
              " '__rmul__',\n",
              " '__setattr__',\n",
              " '__sizeof__',\n",
              " '__str__',\n",
              " '__subclasshook__',\n",
              " 'capitalize',\n",
              " 'casefold',\n",
              " 'center',\n",
              " 'count',\n",
              " 'encode',\n",
              " 'endswith',\n",
              " 'expandtabs',\n",
              " 'find',\n",
              " 'format',\n",
              " 'format_map',\n",
              " 'index',\n",
              " 'isalnum',\n",
              " 'isalpha',\n",
              " 'isdecimal',\n",
              " 'isdigit',\n",
              " 'isidentifier',\n",
              " 'islower',\n",
              " 'isnumeric',\n",
              " 'isprintable',\n",
              " 'isspace',\n",
              " 'istitle',\n",
              " 'isupper',\n",
              " 'join',\n",
              " 'ljust',\n",
              " 'lower',\n",
              " 'lstrip',\n",
              " 'maketrans',\n",
              " 'partition',\n",
              " 'replace',\n",
              " 'rfind',\n",
              " 'rindex',\n",
              " 'rjust',\n",
              " 'rpartition',\n",
              " 'rsplit',\n",
              " 'rstrip',\n",
              " 'split',\n",
              " 'splitlines',\n",
              " 'startswith',\n",
              " 'strip',\n",
              " 'swapcase',\n",
              " 'title',\n",
              " 'translate',\n",
              " 'upper',\n",
              " 'zfill']"
            ]
          },
          "metadata": {
            "tags": []
          },
          "execution_count": 6
        }
      ]
    },
    {
      "cell_type": "code",
      "metadata": {
        "id": "QEC8agDfNix9",
        "colab_type": "code",
        "colab": {
          "base_uri": "https://localhost:8080/",
          "height": 34
        },
        "outputId": "1d66ec29-571c-4810-d337-ec5b2398d935"
      },
      "source": [
        "#Importación de librerías mediante las palabras reservadas 'from' e 'import'\n",
        "from random import randint\n",
        "randomint = randint(1,100)\n",
        "print(randomint)"
      ],
      "execution_count": 7,
      "outputs": [
        {
          "output_type": "stream",
          "text": [
            "31\n"
          ],
          "name": "stdout"
        }
      ]
    },
    {
      "cell_type": "code",
      "metadata": {
        "id": "WxUI3o33OGWQ",
        "colab_type": "code",
        "colab": {
          "base_uri": "https://localhost:8080/",
          "height": 34
        },
        "outputId": "f208464f-7d39-4fa4-b3f1-5cb0e94bd559"
      },
      "source": [
        "import random\n",
        "randomint = random.randint(1,100)\n",
        "print(randomint)"
      ],
      "execution_count": 8,
      "outputs": [
        {
          "output_type": "stream",
          "text": [
            "52\n"
          ],
          "name": "stdout"
        }
      ]
    },
    {
      "cell_type": "markdown",
      "metadata": {
        "id": "yLUblL24Our3",
        "colab_type": "text"
      },
      "source": [
        "### Tipos de datos y estructuras en python"
      ]
    },
    {
      "cell_type": "code",
      "metadata": {
        "id": "mvHoSoL8Ol7b",
        "colab_type": "code",
        "colab": {
          "base_uri": "https://localhost:8080/",
          "height": 157
        },
        "outputId": "d8745f5b-b539-44ab-de30-414b8ac9f4c5"
      },
      "source": [
        "# basicos\n",
        "\n",
        "x = 10 \n",
        "print(x)\n",
        "print(type(x))\n",
        "\n",
        "x = \"hola\"\n",
        "print(x)\n",
        "print(type(x))\n",
        "\n",
        "x = 10.0\n",
        "print(x)\n",
        "print(type(x))\n",
        "\n",
        "x = True\n",
        "print(x)\n",
        "print(type(x))"
      ],
      "execution_count": 9,
      "outputs": [
        {
          "output_type": "stream",
          "text": [
            "10\n",
            "<class 'int'>\n",
            "hola\n",
            "<class 'str'>\n",
            "10.0\n",
            "<class 'float'>\n",
            "True\n",
            "<class 'bool'>\n"
          ],
          "name": "stdout"
        }
      ]
    },
    {
      "cell_type": "code",
      "metadata": {
        "id": "5MjJztruPZ5Q",
        "colab_type": "code",
        "colab": {
          "base_uri": "https://localhost:8080/",
          "height": 87
        },
        "outputId": "0451ad83-793c-4514-87a3-8ee8fa59804b"
      },
      "source": [
        "#Operadores basicos\n",
        "print(5/2)\n",
        "print(5//2) #División redondeada\n",
        "print(5%2)\n",
        "print(5**2)\n"
      ],
      "execution_count": 10,
      "outputs": [
        {
          "output_type": "stream",
          "text": [
            "2.5\n",
            "2\n",
            "1\n",
            "25\n"
          ],
          "name": "stdout"
        }
      ]
    },
    {
      "cell_type": "code",
      "metadata": {
        "id": "1eNj1LldPgZB",
        "colab_type": "code",
        "colab": {
          "base_uri": "https://localhost:8080/",
          "height": 52
        },
        "outputId": "146dad94-8935-42d4-ed3f-d63ae6cd9422"
      },
      "source": [
        "# operadores += y -= \n",
        "IntegerVar = 10 \n",
        "IntegerVar += 10 \n",
        "print (IntegerVar)\n",
        "\n",
        "StringVar = \"Deep\"\n",
        "StringVar += \" Learning\"\n",
        "print (StringVar)"
      ],
      "execution_count": 11,
      "outputs": [
        {
          "output_type": "stream",
          "text": [
            "20\n",
            "Deep Learning\n"
          ],
          "name": "stdout"
        }
      ]
    },
    {
      "cell_type": "code",
      "metadata": {
        "id": "SjKWoKE5P_Cn",
        "colab_type": "code",
        "colab": {
          "base_uri": "https://localhost:8080/",
          "height": 52
        },
        "outputId": "37c4a5b0-6ebd-4f5e-cb03-211c6a502942"
      },
      "source": [
        "# asigunasiones multiples\n",
        "IntegerVar, StringVar = StringVar, IntegerVar\n",
        "print(IntegerVar)\n",
        "print(StringVar)"
      ],
      "execution_count": 12,
      "outputs": [
        {
          "output_type": "stream",
          "text": [
            "Deep Learning\n",
            "20\n"
          ],
          "name": "stdout"
        }
      ]
    },
    {
      "cell_type": "markdown",
      "metadata": {
        "id": "_2UbyyWN94J_",
        "colab_type": "text"
      },
      "source": [
        "#### Estructuras de datos"
      ]
    },
    {
      "cell_type": "code",
      "metadata": {
        "id": "i3_T5KPl9-TE",
        "colab_type": "code",
        "colab": {
          "base_uri": "https://localhost:8080/",
          "height": 0
        },
        "outputId": "f132e924-4e1a-48c5-c59b-93f74799dcac"
      },
      "source": [
        "# listas\n",
        "x = [5,\"hello\",1.8]\n",
        "print(x)\n",
        "len(x)"
      ],
      "execution_count": 13,
      "outputs": [
        {
          "output_type": "stream",
          "text": [
            "[5, 'hello', 1.8]\n"
          ],
          "name": "stdout"
        },
        {
          "output_type": "execute_result",
          "data": {
            "text/plain": [
              "3"
            ]
          },
          "metadata": {
            "tags": []
          },
          "execution_count": 13
        }
      ]
    },
    {
      "cell_type": "code",
      "metadata": {
        "id": "zGrc_jFZ-IUg",
        "colab_type": "code",
        "colab": {
          "base_uri": "https://localhost:8080/",
          "height": 0
        },
        "outputId": "fa40dfec-193c-4cb8-fe4b-822128d3c768"
      },
      "source": [
        "x.append(100)\n",
        "print(x)\n",
        "print(len(x))"
      ],
      "execution_count": 14,
      "outputs": [
        {
          "output_type": "stream",
          "text": [
            "[5, 'hello', 1.8, 100]\n",
            "4\n"
          ],
          "name": "stdout"
        }
      ]
    },
    {
      "cell_type": "code",
      "metadata": {
        "id": "gL4a9wjz-WIj",
        "colab_type": "code",
        "colab": {
          "base_uri": "https://localhost:8080/",
          "height": 0
        },
        "outputId": "defc6afe-2992-40b6-c9dc-fff0f0fee7ff"
      },
      "source": [
        "x[1] = \"Deep\"\n",
        "print(x)"
      ],
      "execution_count": 15,
      "outputs": [
        {
          "output_type": "stream",
          "text": [
            "[5, 'Deep', 1.8, 100]\n"
          ],
          "name": "stdout"
        }
      ]
    },
    {
      "cell_type": "code",
      "metadata": {
        "id": "0mPRdfM5-bnz",
        "colab_type": "code",
        "colab": {
          "base_uri": "https://localhost:8080/",
          "height": 0
        },
        "outputId": "ce324bf9-0520-41ca-d963-e72e60bc3fa1"
      },
      "source": [
        "# concatenar listas\n",
        "y = [2.1,\"learning\"]\n",
        "z = x + y\n",
        "print (z)"
      ],
      "execution_count": 16,
      "outputs": [
        {
          "output_type": "stream",
          "text": [
            "[5, 'Deep', 1.8, 100, 2.1, 'learning']\n"
          ],
          "name": "stdout"
        }
      ]
    },
    {
      "cell_type": "code",
      "metadata": {
        "id": "uygwZEfT-jwa",
        "colab_type": "code",
        "colab": {
          "base_uri": "https://localhost:8080/",
          "height": 0
        },
        "outputId": "d036553c-27e7-43e3-ae42-c08ae842a8c8"
      },
      "source": [
        "#indexación de listas\n",
        "x = [5,\"deep\",1.8]\n",
        "print(\"primer elemento --> x[0]: \", x[0])\n",
        "print(\"segundo elemento --> x[1]: \", x[1])\n",
        "print(\"último elemento --> x[-1]: \", x[-1])\n",
        "print(\"penúltimo elemento --> x[-2]: \", x[-2])"
      ],
      "execution_count": 17,
      "outputs": [
        {
          "output_type": "stream",
          "text": [
            "primer elemento --> x[0]:  5\n",
            "segundo elemento --> x[1]:  deep\n",
            "último elemento --> x[-1]:  1.8\n",
            "penúltimo elemento --> x[-2]:  deep\n"
          ],
          "name": "stdout"
        }
      ]
    },
    {
      "cell_type": "code",
      "metadata": {
        "id": "Y3djauAy-24n",
        "colab_type": "code",
        "colab": {
          "base_uri": "https://localhost:8080/",
          "height": 0
        },
        "outputId": "ccde79b0-0811-40cf-a91b-faf6b0ccf7a4"
      },
      "source": [
        "print(\"todos los índices --> x[:]: \", x[:])\n",
        "print(\"desde el índice 1 hasta el final --> x[1:]: \", x[1:])\n",
        "print(\"desde el índice 1 hasta el 2 (no se incluye el 2) [1,2) ) --> x[1:2]: \", x[1:2])\n",
        "print(\"desde el índice 0 hasta el final sin incluir al último --> x[:-1]: \", x[:-1])"
      ],
      "execution_count": 18,
      "outputs": [
        {
          "output_type": "stream",
          "text": [
            "todos los índices --> x[:]:  [5, 'deep', 1.8]\n",
            "desde el índice 1 hasta el final --> x[1:]:  ['deep', 1.8]\n",
            "desde el índice 1 hasta el 2 (no se incluye el 2) [1,2) ) --> x[1:2]:  ['deep']\n",
            "desde el índice 0 hasta el final sin incluir al último --> x[:-1]:  [5, 'deep']\n"
          ],
          "name": "stdout"
        }
      ]
    },
    {
      "cell_type": "code",
      "metadata": {
        "id": "h8779f94_djX",
        "colab_type": "code",
        "colab": {
          "base_uri": "https://localhost:8080/",
          "height": 0
        },
        "outputId": "b646727a-ce23-40a0-d537-ad75ba426e92"
      },
      "source": [
        "#tuplas, son colecciones ¡inmutables! \n",
        "x = (1,\"deep\",3)\n",
        "print(x)\n",
        "print(x[1])\n"
      ],
      "execution_count": 19,
      "outputs": [
        {
          "output_type": "stream",
          "text": [
            "(1, 'deep', 3)\n",
            "deep\n"
          ],
          "name": "stdout"
        }
      ]
    },
    {
      "cell_type": "code",
      "metadata": {
        "id": "HCy5hglxEaXw",
        "colab_type": "code",
        "colab": {
          "base_uri": "https://localhost:8080/",
          "height": 0
        },
        "outputId": "3ee27469-d946-46fd-f481-8a187a8fc131"
      },
      "source": [
        "x = x + (4,\"learning\")\n",
        "print(x)\n",
        "print(x[-1])"
      ],
      "execution_count": 20,
      "outputs": [
        {
          "output_type": "stream",
          "text": [
            "(1, 'deep', 3, 4, 'learning')\n",
            "learning\n"
          ],
          "name": "stdout"
        }
      ]
    },
    {
      "cell_type": "code",
      "metadata": {
        "id": "L4IL6zCyJnSd",
        "colab_type": "code",
        "colab": {
          "base_uri": "https://localhost:8080/",
          "height": 0
        },
        "outputId": "ea24367f-5de0-4f76-fefa-dbccf9503bcb"
      },
      "source": [
        "# Dicionarios\n",
        "persona = {'nombre': 'Cristian Gomez',\n",
        "           'profesion': 'Data Science'}\n",
        "print (persona)\n",
        "print (persona['nombre'])\n",
        "print (persona['profesion'])"
      ],
      "execution_count": 21,
      "outputs": [
        {
          "output_type": "stream",
          "text": [
            "{'nombre': 'Cristian Gomez', 'profesion': 'Data Science'}\n",
            "Cristian Gomez\n",
            "Data Science\n"
          ],
          "name": "stdout"
        }
      ]
    },
    {
      "cell_type": "code",
      "metadata": {
        "id": "EGqTDX9ZONtG",
        "colab_type": "code",
        "colab": {
          "base_uri": "https://localhost:8080/",
          "height": 0
        },
        "outputId": "b9d7c7cd-bf6b-4633-c3de-36e0bce536bc"
      },
      "source": [
        "persona['profesion'] = 'Ingeniero'\n",
        "print (persona)"
      ],
      "execution_count": 22,
      "outputs": [
        {
          "output_type": "stream",
          "text": [
            "{'nombre': 'Cristian Gomez', 'profesion': 'Ingeniero'}\n"
          ],
          "name": "stdout"
        }
      ]
    },
    {
      "cell_type": "code",
      "metadata": {
        "id": "8l0FQmN4OccS",
        "colab_type": "code",
        "colab": {
          "base_uri": "https://localhost:8080/",
          "height": 0
        },
        "outputId": "bcad7028-8d0b-4a48-a42b-6ab0e8d55869"
      },
      "source": [
        "persona['grupo'] = 24\n",
        "print (persona)"
      ],
      "execution_count": 23,
      "outputs": [
        {
          "output_type": "stream",
          "text": [
            "{'nombre': 'Cristian Gomez', 'profesion': 'Ingeniero', 'grupo': 24}\n"
          ],
          "name": "stdout"
        }
      ]
    },
    {
      "cell_type": "code",
      "metadata": {
        "id": "dJd1qByaO0Ub",
        "colab_type": "code",
        "colab": {
          "base_uri": "https://localhost:8080/",
          "height": 0
        },
        "outputId": "e09ea2e0-7dfc-43ee-e292-b907cf8e05a1"
      },
      "source": [
        "print (len(persona))"
      ],
      "execution_count": 24,
      "outputs": [
        {
          "output_type": "stream",
          "text": [
            "3\n"
          ],
          "name": "stdout"
        }
      ]
    },
    {
      "cell_type": "markdown",
      "metadata": {
        "id": "dlQ9b3twPLfp",
        "colab_type": "text"
      },
      "source": [
        "### Sentencias de control y funciones"
      ]
    },
    {
      "cell_type": "code",
      "metadata": {
        "id": "EjZOOi3zPI57",
        "colab_type": "code",
        "colab": {
          "base_uri": "https://localhost:8080/",
          "height": 0
        },
        "outputId": "ccc84e36-4245-4a63-9a4b-b206c86b951f"
      },
      "source": [
        "# setencia if\n",
        "x = 6.5 \n",
        "if x < 5: \n",
        "    puntuacion = 'baja'\n",
        "elif x <= 7: # elif = else if\n",
        "    puntuacion = 'media'\n",
        "else: \n",
        "    puntuacion = 'alta'\n",
        "\n",
        "print(puntuacion)"
      ],
      "execution_count": 25,
      "outputs": [
        {
          "output_type": "stream",
          "text": [
            "media\n"
          ],
          "name": "stdout"
        }
      ]
    },
    {
      "cell_type": "code",
      "metadata": {
        "id": "vqFMHicsQ1WW",
        "colab_type": "code",
        "colab": {
          "base_uri": "https://localhost:8080/",
          "height": 0
        },
        "outputId": "e8bf3163-c4b2-4b62-927d-aa7a6518e503"
      },
      "source": [
        "b = 1\n",
        "print (\"Paris\" if b >= 92 else \"Barcelona\")"
      ],
      "execution_count": 26,
      "outputs": [
        {
          "output_type": "stream",
          "text": [
            "Barcelona\n"
          ],
          "name": "stdout"
        }
      ]
    },
    {
      "cell_type": "code",
      "metadata": {
        "id": "suMdp1p-RuGc",
        "colab_type": "code",
        "colab": {
          "base_uri": "https://localhost:8080/",
          "height": 0
        },
        "outputId": "92d07990-d626-4c75-8843-ea9155731a9f"
      },
      "source": [
        "# bucle for\n",
        "for a in range (1,4): \n",
        "    print (a)"
      ],
      "execution_count": 27,
      "outputs": [
        {
          "output_type": "stream",
          "text": [
            "1\n",
            "2\n",
            "3\n"
          ],
          "name": "stdout"
        }
      ]
    },
    {
      "cell_type": "code",
      "metadata": {
        "id": "DFc9W_CiUMEV",
        "colab_type": "code",
        "colab": {
          "base_uri": "https://localhost:8080/",
          "height": 0
        },
        "outputId": "e82bd029-7835-499b-ccb2-1cb58f8f26bc"
      },
      "source": [
        "universidades = [\"UPB\",\"UdA\",\"UNAL\"]\n",
        "for universidad in universidades:\n",
        "    print (universidad)"
      ],
      "execution_count": 28,
      "outputs": [
        {
          "output_type": "stream",
          "text": [
            "UPB\n",
            "UdA\n",
            "UNAL\n"
          ],
          "name": "stdout"
        }
      ]
    },
    {
      "cell_type": "code",
      "metadata": {
        "id": "NAHw6rhxU8i-",
        "colab_type": "code",
        "colab": {
          "base_uri": "https://localhost:8080/",
          "height": 0
        },
        "outputId": "a984a3c2-1860-4622-e3eb-db7bb68552ab"
      },
      "source": [
        "for universidad in universidades:\n",
        "    if universidad == \"UdA\":\n",
        "        break #termina el bucle, no procesa más elementos de la lista\n",
        "    print (universidad)"
      ],
      "execution_count": 29,
      "outputs": [
        {
          "output_type": "stream",
          "text": [
            "UPB\n"
          ],
          "name": "stdout"
        }
      ]
    },
    {
      "cell_type": "code",
      "metadata": {
        "id": "oPviorpfVfP7",
        "colab_type": "code",
        "colab": {
          "base_uri": "https://localhost:8080/",
          "height": 0
        },
        "outputId": "0654719b-512f-4913-a4bb-fb2b82343f44"
      },
      "source": [
        "for universidad in universidades:\n",
        "    if universidad == \"UdA\":\n",
        "        continue #omite el item acual, pero continua el bucle\n",
        "    print (universidad)"
      ],
      "execution_count": 30,
      "outputs": [
        {
          "output_type": "stream",
          "text": [
            "UPB\n",
            "UNAL\n"
          ],
          "name": "stdout"
        }
      ]
    },
    {
      "cell_type": "code",
      "metadata": {
        "id": "t3q1zqkXXJk8",
        "colab_type": "code",
        "colab": {
          "base_uri": "https://localhost:8080/",
          "height": 0
        },
        "outputId": "ffe1adaf-5642-4642-f2f7-0637c0936fe8"
      },
      "source": [
        "# Bucle while\n",
        "\n",
        "x=3 \n",
        "while x > 0: \n",
        "    x = x - 1\n",
        "    print(x)"
      ],
      "execution_count": 31,
      "outputs": [
        {
          "output_type": "stream",
          "text": [
            "2\n",
            "1\n",
            "0\n"
          ],
          "name": "stdout"
        }
      ]
    },
    {
      "cell_type": "markdown",
      "metadata": {
        "id": "9os-TvL6fFLo",
        "colab_type": "text"
      },
      "source": [
        "### Funciones"
      ]
    },
    {
      "cell_type": "code",
      "metadata": {
        "id": "mvfSdOuhewBd",
        "colab_type": "code",
        "colab": {
          "base_uri": "https://localhost:8080/",
          "height": 0
        },
        "outputId": "596f6a10-dc17-4f21-c728-8c9918f87e7f"
      },
      "source": [
        "# declaración de funciones\n",
        "def mi_universidad (universidad = 'UPB'):\n",
        "    y = \"Mi universidad es la \" + universidad\n",
        "    return (y)\n",
        "\n",
        "print (mi_universidad(\"UDM\"))\n",
        "print (mi_universidad(universidad = \"UNAL\"))\n",
        "print (mi_universidad())"
      ],
      "execution_count": 32,
      "outputs": [
        {
          "output_type": "stream",
          "text": [
            "Mi universidad es la UDM\n",
            "Mi universidad es la UNAL\n",
            "Mi universidad es la UPB\n"
          ],
          "name": "stdout"
        }
      ]
    },
    {
      "cell_type": "code",
      "metadata": {
        "id": "UkY3YaTyfmhr",
        "colab_type": "code",
        "colab": {
          "base_uri": "https://localhost:8080/",
          "height": 0
        },
        "outputId": "27e6c17b-4a33-4e44-ecef-3198791fc2cd"
      },
      "source": [
        "# funciones con argumentos iniciales\n",
        "def foo():\n",
        "    a, b = 4, 5\n",
        "    return a, b\n",
        "\n",
        "foo()"
      ],
      "execution_count": 33,
      "outputs": [
        {
          "output_type": "execute_result",
          "data": {
            "text/plain": [
              "(4, 5)"
            ]
          },
          "metadata": {
            "tags": []
          },
          "execution_count": 33
        }
      ]
    },
    {
      "cell_type": "code",
      "metadata": {
        "id": "JVWonrIMgMgV",
        "colab_type": "code",
        "colab": {
          "base_uri": "https://localhost:8080/",
          "height": 0
        },
        "outputId": "27058c3f-11df-45da-9cdb-2fb2b958020f"
      },
      "source": [
        "# Funciones lambda, funciones anonimas\n",
        "\n",
        "fibonacci = (lambda x:1 if x <= 2 else \n",
        "             fibonacci(x-1) + fibonacci(x-2))\n",
        "\n",
        "fibonacci(10)\n"
      ],
      "execution_count": 34,
      "outputs": [
        {
          "output_type": "execute_result",
          "data": {
            "text/plain": [
              "55"
            ]
          },
          "metadata": {
            "tags": []
          },
          "execution_count": 34
        }
      ]
    },
    {
      "cell_type": "markdown",
      "metadata": {
        "id": "W_RYPa5ghS9z",
        "colab_type": "text"
      },
      "source": [
        "### Clases en python "
      ]
    },
    {
      "cell_type": "code",
      "metadata": {
        "id": "tSuDevcnggvP",
        "colab_type": "code",
        "colab": {}
      },
      "source": [
        "# Definición e iniciación de clases\n",
        "class Calculadora(object):\n",
        "    \"\"\"Clase de una calculadora\"\"\"\n",
        "\n",
        "    def __init__(self):\n",
        "        \"\"\"Inicializa la clase calculadora\"\"\"\n",
        "        self.valor = 0\n",
        "\n",
        "    def suma(self,n):\n",
        "        \"\"\"suma un numero n al valor\"\"\"\n",
        "        self.valor += n\n",
        "\n",
        "    def getValor(self):\n",
        "        \"\"\"obtiene el valor\"\"\"\n",
        "        return self.valor"
      ],
      "execution_count": 35,
      "outputs": []
    },
    {
      "cell_type": "code",
      "metadata": {
        "id": "LYfoYj6vi2RR",
        "colab_type": "code",
        "colab": {
          "base_uri": "https://localhost:8080/",
          "height": 0
        },
        "outputId": "7b589a0d-8e96-47f4-f956-269dbeed4296"
      },
      "source": [
        "calc = Calculadora() # iniciar la clase\n",
        "calc.suma(2)\n",
        "print (calc.getValor())\n",
        "calc.suma(2)\n",
        "print (calc.getValor())"
      ],
      "execution_count": 36,
      "outputs": [
        {
          "output_type": "stream",
          "text": [
            "2\n",
            "4\n"
          ],
          "name": "stdout"
        }
      ]
    },
    {
      "cell_type": "code",
      "metadata": {
        "id": "DNvM0PHGi6ZS",
        "colab_type": "code",
        "colab": {
          "base_uri": "https://localhost:8080/",
          "height": 0
        },
        "outputId": "4b02da3b-9f7a-43df-f41d-11d32452077c"
      },
      "source": [
        "vec = [1, 2, 3]\n",
        "it = iter(vec) # iterador\n",
        "\n",
        "next(it)"
      ],
      "execution_count": 37,
      "outputs": [
        {
          "output_type": "execute_result",
          "data": {
            "text/plain": [
              "1"
            ]
          },
          "metadata": {
            "tags": []
          },
          "execution_count": 37
        }
      ]
    },
    {
      "cell_type": "code",
      "metadata": {
        "id": "KL_Ba7bbm6T3",
        "colab_type": "code",
        "colab": {
          "base_uri": "https://localhost:8080/",
          "height": 0
        },
        "outputId": "f0b9bca1-33c9-4a89-d25e-e9cded2e2ff1"
      },
      "source": [
        "next(it)"
      ],
      "execution_count": 38,
      "outputs": [
        {
          "output_type": "execute_result",
          "data": {
            "text/plain": [
              "2"
            ]
          },
          "metadata": {
            "tags": []
          },
          "execution_count": 38
        }
      ]
    },
    {
      "cell_type": "code",
      "metadata": {
        "id": "l7cuY6W8nIEX",
        "colab_type": "code",
        "colab": {
          "base_uri": "https://localhost:8080/",
          "height": 0
        },
        "outputId": "21198f05-4ed9-408c-99fb-b6b11563c000"
      },
      "source": [
        "type(vec) # iterable"
      ],
      "execution_count": 39,
      "outputs": [
        {
          "output_type": "execute_result",
          "data": {
            "text/plain": [
              "list"
            ]
          },
          "metadata": {
            "tags": []
          },
          "execution_count": 39
        }
      ]
    },
    {
      "cell_type": "code",
      "metadata": {
        "id": "w8-e1PyaoxDs",
        "colab_type": "code",
        "colab": {
          "base_uri": "https://localhost:8080/",
          "height": 0
        },
        "outputId": "28d8b931-4976-457f-e268-008ca2add562"
      },
      "source": [
        "type(it) # iterador"
      ],
      "execution_count": 40,
      "outputs": [
        {
          "output_type": "execute_result",
          "data": {
            "text/plain": [
              "list_iterator"
            ]
          },
          "metadata": {
            "tags": []
          },
          "execution_count": 40
        }
      ]
    },
    {
      "cell_type": "markdown",
      "metadata": {
        "id": "aKdL4DR7qFIT",
        "colab_type": "text"
      },
      "source": [
        "### Decoradores\n",
        "\n",
        "Ejecucciones que se hacen pre o post procesamiento de una función"
      ]
    },
    {
      "cell_type": "code",
      "metadata": {
        "id": "DA1JZV8Xo0fK",
        "colab_type": "code",
        "colab": {
          "base_uri": "https://localhost:8080/",
          "height": 0
        },
        "outputId": "accb098a-0eef-4334-c477-e7b67d95e92c"
      },
      "source": [
        "# sin decorador\n",
        "def voy_a_imprimir_Hola():\n",
        "    print(\"Hola\")\n",
        "\n",
        "voy_a_imprimir_Hola()"
      ],
      "execution_count": 41,
      "outputs": [
        {
          "output_type": "stream",
          "text": [
            "Hola\n"
          ],
          "name": "stdout"
        }
      ]
    },
    {
      "cell_type": "code",
      "metadata": {
        "id": "uXFGLchnqxtd",
        "colab_type": "code",
        "colab": {
          "base_uri": "https://localhost:8080/",
          "height": 0
        },
        "outputId": "f61ea402-2404-4501-e444-1198dbee4a32"
      },
      "source": [
        "# con decorador\n",
        "def voy_a_imprimir_Hola():\n",
        "    print(\"Hola\")\n",
        "\n",
        "def my_decorator(func):\n",
        "    def wrapper ():\n",
        "        print(\"[Aviso: voy a decir algo]\")\n",
        "        func ()\n",
        "        print(\"[Aviso: ya he dicho algo]\")\n",
        "    return wrapper\n",
        "\n",
        "voy_a_imprimir_Hola = my_decorator(voy_a_imprimir_Hola)\n",
        "\n",
        "voy_a_imprimir_Hola ()"
      ],
      "execution_count": 42,
      "outputs": [
        {
          "output_type": "stream",
          "text": [
            "[Aviso: voy a decir algo]\n",
            "Hola\n",
            "[Aviso: ya he dicho algo]\n"
          ],
          "name": "stdout"
        }
      ]
    },
    {
      "cell_type": "code",
      "metadata": {
        "id": "b-Jtrs_krtuO",
        "colab_type": "code",
        "colab": {}
      },
      "source": [
        "# se puede hacer uso de los decoradores mediante la siguiente estructura\n",
        "@my_decorator \n",
        "def voy_a_imprimir_Hola():\n",
        "    print(\"Hola\")"
      ],
      "execution_count": 43,
      "outputs": []
    },
    {
      "cell_type": "code",
      "metadata": {
        "id": "2iCok6oKubIH",
        "colab_type": "code",
        "colab": {
          "base_uri": "https://localhost:8080/",
          "height": 0
        },
        "outputId": "658a3b7d-2968-4a3b-fee2-baec1cfacbdd"
      },
      "source": [
        "voy_a_imprimir_Hola()"
      ],
      "execution_count": 44,
      "outputs": [
        {
          "output_type": "stream",
          "text": [
            "[Aviso: voy a decir algo]\n",
            "Hola\n",
            "[Aviso: ya he dicho algo]\n"
          ],
          "name": "stdout"
        }
      ]
    },
    {
      "cell_type": "markdown",
      "metadata": {
        "id": "mcWRxs6NyO5i",
        "colab_type": "text"
      },
      "source": [
        "## Tensores\n",
        "\n",
        "es un array multidimencional de *Numpy*, los tensores se usan como estructura básica de datos.\n",
        "\n",
        "Un **tensor** tiene tres atributos principales: número de ejes, forma y tipo de datos. \n",
        "\n",
        "* **Numero de ejes (rank):** es un numero que muestra la cantidad de dimensiones en él. Un escalar (0D) es un tensor con un solo número. Un array de números es un vector o tensor de 1D. Un array de vectores es una matriz o tensor de 2D. Con esta estructura se pueden tener tensores de nD (n número de dimsniones). En NumPy a esto se le llama *ndim* del tensor\n",
        "\n",
        "* **Forma:** es una tupla con la cantidad de items en cada eje. En NumPy a esto se le llama *shape*. Un escalar tiene shape vacío ()\n",
        "\n",
        "* **Tipo de datos:** Indica el tipo de dato que contiene el tensor. En NumPy a esto se le llama *dtype*\n",
        "\n"
      ]
    },
    {
      "cell_type": "code",
      "metadata": {
        "id": "c6Lhe9AtueUa",
        "colab_type": "code",
        "colab": {}
      },
      "source": [
        "# Tensor en NumPy\n",
        "\n",
        "import numpy as np\n",
        "\n",
        "def mostrar_tensor(x):\n",
        "    print(\"x: \\n \",x)\n",
        "    print(\"x ndim: \",x.ndim)\n",
        "    print(\"x shape: \", x.shape)\n",
        "    print(\"x size: \",x.size)\n",
        "    print(\"x dtype: \",x.dtype)"
      ],
      "execution_count": 45,
      "outputs": []
    },
    {
      "cell_type": "code",
      "metadata": {
        "id": "ymVmhVfD1-mj",
        "colab_type": "code",
        "colab": {
          "base_uri": "https://localhost:8080/",
          "height": 122
        },
        "outputId": "36814d44-07a8-4df6-f430-5d1eda96c3d4"
      },
      "source": [
        "# para un escalar\n",
        "x = np.array(8)\n",
        "\n",
        "mostrar_tensor(x)"
      ],
      "execution_count": 46,
      "outputs": [
        {
          "output_type": "stream",
          "text": [
            "x: \n",
            "  8\n",
            "x ndim:  0\n",
            "x shape:  ()\n",
            "x size:  1\n",
            "x dtype:  int64\n"
          ],
          "name": "stdout"
        }
      ]
    },
    {
      "cell_type": "code",
      "metadata": {
        "id": "OjRw-SfF2-Ot",
        "colab_type": "code",
        "colab": {
          "base_uri": "https://localhost:8080/",
          "height": 122
        },
        "outputId": "74ff8693-9938-4e72-c39a-d0951b3ddf4f"
      },
      "source": [
        "# para un vector\n",
        "\n",
        "x = np.array([2.3,4.2,3.3,1.8])\n",
        "\n",
        "mostrar_tensor(x)"
      ],
      "execution_count": 47,
      "outputs": [
        {
          "output_type": "stream",
          "text": [
            "x: \n",
            "  [2.3 4.2 3.3 1.8]\n",
            "x ndim:  1\n",
            "x shape:  (4,)\n",
            "x size:  4\n",
            "x dtype:  float64\n"
          ],
          "name": "stdout"
        }
      ]
    },
    {
      "cell_type": "code",
      "metadata": {
        "id": "UNHYgDNN3Ql5",
        "colab_type": "code",
        "colab": {
          "base_uri": "https://localhost:8080/",
          "height": 193
        },
        "outputId": "f03fe73a-df4d-4802-e291-8a0f93b1daa8"
      },
      "source": [
        "# para una matriz 2D\n",
        "x = np.array([[[1,2],[3,4]],[[5,6],[7,8]]])\n",
        "\n",
        "mostrar_tensor(x)"
      ],
      "execution_count": 48,
      "outputs": [
        {
          "output_type": "stream",
          "text": [
            "x: \n",
            "  [[[1 2]\n",
            "  [3 4]]\n",
            "\n",
            " [[5 6]\n",
            "  [7 8]]]\n",
            "x ndim:  3\n",
            "x shape:  (2, 2, 2)\n",
            "x size:  8\n",
            "x dtype:  int64\n"
          ],
          "name": "stdout"
        }
      ]
    },
    {
      "cell_type": "code",
      "metadata": {
        "id": "MN9jgsch3ruO",
        "colab_type": "code",
        "colab": {
          "base_uri": "https://localhost:8080/",
          "height": 298
        },
        "outputId": "d7665571-5275-4109-aa7c-f7ee22c04e4e"
      },
      "source": [
        "# Funciones de Numpy para crear tensores rapidamente\n",
        "\n",
        "print(\"np.zeros((3,3)): \\n\", np.zeros((3,3)))\n",
        "print(\"np.ones((3,3)): \\n\", np.ones((3,3)))\n",
        "print(\"np.eye((3)): \\n\", np.eye((3)))\n",
        "print(\"np.random.random((3,3)): \\n\", np.random.random((3,3)))"
      ],
      "execution_count": 49,
      "outputs": [
        {
          "output_type": "stream",
          "text": [
            "np.zeros((3,3)): \n",
            " [[0. 0. 0.]\n",
            " [0. 0. 0.]\n",
            " [0. 0. 0.]]\n",
            "np.ones((3,3)): \n",
            " [[1. 1. 1.]\n",
            " [1. 1. 1.]\n",
            " [1. 1. 1.]]\n",
            "np.eye((3)): \n",
            " [[1. 0. 0.]\n",
            " [0. 1. 0.]\n",
            " [0. 0. 1.]]\n",
            "np.random.random((3,3)): \n",
            " [[0.00991612 0.88224976 0.18715851]\n",
            " [0.29327484 0.02807621 0.42597644]\n",
            " [0.73519305 0.04035421 0.50085105]]\n"
          ],
          "name": "stdout"
        }
      ]
    },
    {
      "cell_type": "markdown",
      "metadata": {
        "id": "mbBDTomG5SF3",
        "colab_type": "text"
      },
      "source": [
        "### Manipulación de tensores"
      ]
    },
    {
      "cell_type": "code",
      "metadata": {
        "id": "hgqGWaxm5M_U",
        "colab_type": "code",
        "colab": {
          "base_uri": "https://localhost:8080/",
          "height": 157
        },
        "outputId": "0c22cae9-dc2c-4588-8a63-a2bd5bd29b14"
      },
      "source": [
        "x = np.array([[1,2,3,4],[5,6,7,8],[9,10,11,12]])\n",
        "\n",
        "print (x)\n",
        "print (\"x column 1: \", x[:,1])\n",
        "print (\"x row 0: \",x[0,:])\n",
        "print (\"x rows 0,1 & cols 1,2 : \\n\", x[0:2, 1:3])"
      ],
      "execution_count": 50,
      "outputs": [
        {
          "output_type": "stream",
          "text": [
            "[[ 1  2  3  4]\n",
            " [ 5  6  7  8]\n",
            " [ 9 10 11 12]]\n",
            "x column 1:  [ 2  6 10]\n",
            "x row 0:  [1 2 3 4]\n",
            "x rows 0,1 & cols 1,2 : \n",
            " [[2 3]\n",
            " [6 7]]\n"
          ],
          "name": "stdout"
        }
      ]
    },
    {
      "cell_type": "code",
      "metadata": {
        "id": "FAx4eoxIXhsz",
        "colab_type": "code",
        "colab": {
          "base_uri": "https://localhost:8080/",
          "height": 70
        },
        "outputId": "ef303789-e764-4515-e497-dbc0670bfc9d"
      },
      "source": [
        "# multiplicación de matrices\n",
        "a = np.array([[1,2,3],[4,5,6]], dtype=np.int32)\n",
        "b = np.array([[7,8], [9,10], [11,12]], dtype=np.int32)\n",
        "c = a.dot(b) # multiplicación\n",
        "print (f\"{a.shape} . {b.shape} = {c.shape}\")\n",
        "print (c)"
      ],
      "execution_count": 51,
      "outputs": [
        {
          "output_type": "stream",
          "text": [
            "(2, 3) . (3, 2) = (2, 2)\n",
            "[[ 58  64]\n",
            " [139 154]]\n"
          ],
          "name": "stdout"
        }
      ]
    },
    {
      "cell_type": "code",
      "metadata": {
        "id": "57K6THP7YkMu",
        "colab_type": "code",
        "colab": {
          "base_uri": "https://localhost:8080/",
          "height": 193
        },
        "outputId": "03f93a06-fb16-46aa-b1b6-a87a1a1ca210"
      },
      "source": [
        "# transformacion de matrices\n",
        "x = np.array([[1,2,3,4,5,6]])\n",
        "print (x)\n",
        "print (\"x.shape: \",x.shape)\n",
        "y = np.reshape(x, (2,3))\n",
        "print (\"y: \\n\", y)\n",
        "print (\"y.shape: \", y.shape)\n",
        "z = np.reshape(x, (2,-1))\n",
        "print (\"z: \\n\",z)\n",
        "print (\"z.shape: \", z.shape)"
      ],
      "execution_count": 52,
      "outputs": [
        {
          "output_type": "stream",
          "text": [
            "[[1 2 3 4 5 6]]\n",
            "x.shape:  (1, 6)\n",
            "y: \n",
            " [[1 2 3]\n",
            " [4 5 6]]\n",
            "y.shape:  (2, 3)\n",
            "z: \n",
            " [[1 2 3]\n",
            " [4 5 6]]\n",
            "z.shape:  (2, 3)\n"
          ],
          "name": "stdout"
        }
      ]
    },
    {
      "cell_type": "code",
      "metadata": {
        "id": "qvjOoso8gray",
        "colab_type": "code",
        "colab": {
          "base_uri": "https://localhost:8080/",
          "height": 175
        },
        "outputId": "9b050f0e-d601-41b8-b186-28c915e596a5"
      },
      "source": [
        "# borrar o añadir dimensiones\n",
        "x = np.array([[1,2,3],[4,5,6]])\n",
        "print (\"x:\\n\",x)\n",
        "print (\"x.shape: \",x.shape)\n",
        "y = np.expand_dims(x,1)\n",
        "print (\"y: \\n\",y)\n",
        "print (\"y.shape: \", y.shape)"
      ],
      "execution_count": 53,
      "outputs": [
        {
          "output_type": "stream",
          "text": [
            "x:\n",
            " [[1 2 3]\n",
            " [4 5 6]]\n",
            "x.shape:  (2, 3)\n",
            "y: \n",
            " [[[1 2 3]]\n",
            "\n",
            " [[4 5 6]]]\n",
            "y.shape:  (2, 1, 3)\n"
          ],
          "name": "stdout"
        }
      ]
    },
    {
      "cell_type": "code",
      "metadata": {
        "id": "PuwTYfQrinPx",
        "colab_type": "code",
        "colab": {
          "base_uri": "https://localhost:8080/",
          "height": 175
        },
        "outputId": "cc1a8a25-96aa-4526-dd1f-57e446a0e202"
      },
      "source": [
        "# borrar dimesiones\n",
        "x = np.array([[[1,2,3]],[[4,5,6]]])\n",
        "print (\"x: \\n\",x)\n",
        "print (\"x.shape: \",x.shape)\n",
        "y = np.squeeze(x,1) # retira la dimension 1\n",
        "print (\"y: \\n\",y)\n",
        "print (\"y.shape: \", y.shape)"
      ],
      "execution_count": 55,
      "outputs": [
        {
          "output_type": "stream",
          "text": [
            "x: \n",
            " [[[1 2 3]]\n",
            "\n",
            " [[4 5 6]]]\n",
            "x.shape:  (2, 1, 3)\n",
            "y: \n",
            " [[1 2 3]\n",
            " [4 5 6]]\n",
            "y.shape:  (2, 3)\n"
          ],
          "name": "stdout"
        }
      ]
    },
    {
      "cell_type": "code",
      "metadata": {
        "id": "fTS_T1HHN6KA",
        "colab_type": "code",
        "colab": {
          "base_uri": "https://localhost:8080/",
          "height": 70
        },
        "outputId": "bd295b81-1c75-4baf-9581-8592f6f201cd"
      },
      "source": [
        "# Valor maximo de un tensor\n",
        "x = np.array([1,2,3,4])\n",
        "print (x)\n",
        "\n",
        "print (np.argmax(x)) # devuelve el indice del valor maximo en un eje\n",
        "print (np.max(x)) # devuelve el valor maximo en un eje"
      ],
      "execution_count": 60,
      "outputs": [
        {
          "output_type": "stream",
          "text": [
            "[1 2 3 4]\n",
            "3\n",
            "4\n"
          ],
          "name": "stdout"
        }
      ]
    },
    {
      "cell_type": "code",
      "metadata": {
        "id": "6E7Pd5JyO53Z",
        "colab_type": "code",
        "colab": {
          "base_uri": "https://localhost:8080/",
          "height": 70
        },
        "outputId": "0a100f73-beb4-47d2-c3da-9c0c88aedb46"
      },
      "source": [
        "x = np.array([1,2,4,4])\n",
        "print (x)\n",
        "\n",
        "print (np.argmax(x)) # en caso de haber mas de un elemento devuelve el primer indice\n",
        "print (np.max(x)) # devuelve el valor maximo en un eje"
      ],
      "execution_count": 62,
      "outputs": [
        {
          "output_type": "stream",
          "text": [
            "[1 2 4 4]\n",
            "2\n",
            "4\n"
          ],
          "name": "stdout"
        }
      ]
    },
    {
      "cell_type": "code",
      "metadata": {
        "id": "GhQuQwoDQwUU",
        "colab_type": "code",
        "colab": {
          "base_uri": "https://localhost:8080/",
          "height": 105
        },
        "outputId": "729c16b4-269b-4dff-e341-73b5bf5a6802"
      },
      "source": [
        "# Para varias dimensiones\n",
        "x = np.array([[1,2,3,4],[5,6,7,8],[9,10,11,12]])\n",
        "print (x)\n",
        "\n",
        "print (np.argmax(x))\n",
        "print (np.max(x)) "
      ],
      "execution_count": 63,
      "outputs": [
        {
          "output_type": "stream",
          "text": [
            "[[ 1  2  3  4]\n",
            " [ 5  6  7  8]\n",
            " [ 9 10 11 12]]\n",
            "11\n",
            "12\n"
          ],
          "name": "stdout"
        }
      ]
    },
    {
      "cell_type": "code",
      "metadata": {
        "id": "q_iTd6A8RFw0",
        "colab_type": "code",
        "colab": {
          "base_uri": "https://localhost:8080/",
          "height": 87
        },
        "outputId": "d11a82cb-ea0f-4971-9f8d-5891b361d05d"
      },
      "source": [
        "# se puede especificar que eje analizar\n",
        "print (np.argmax(x,axis=0))\n",
        "print (np.max(x,axis=0))\n",
        "\n",
        "print (np.argmax(x,axis=1))\n",
        "print (np.max(x,axis=1))"
      ],
      "execution_count": 68,
      "outputs": [
        {
          "output_type": "stream",
          "text": [
            "[2 2 2 2]\n",
            "[ 9 10 11 12]\n",
            "[3 3 3]\n",
            "[ 4  8 12]\n"
          ],
          "name": "stdout"
        }
      ]
    }
  ]
}