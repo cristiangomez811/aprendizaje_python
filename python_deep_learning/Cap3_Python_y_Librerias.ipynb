{
  "nbformat": 4,
  "nbformat_minor": 0,
  "metadata": {
    "colab": {
      "name": "Cap3_Python_y_Librerias.ipynb",
      "provenance": [],
      "authorship_tag": "ABX9TyNyq5604d6JVsueTPIOZ2P5",
      "include_colab_link": true
    },
    "kernelspec": {
      "name": "python3",
      "display_name": "Python 3"
    },
    "accelerator": "GPU"
  },
  "cells": [
    {
      "cell_type": "markdown",
      "metadata": {
        "id": "view-in-github",
        "colab_type": "text"
      },
      "source": [
        "<a href=\"https://colab.research.google.com/github/cristiangomez811/aprendizaje_python/blob/master/python_deep_learning/Cap3_Python_y_Librerias.ipynb\" target=\"_parent\"><img src=\"https://colab.research.google.com/assets/colab-badge.svg\" alt=\"Open In Colab\"/></a>"
      ]
    },
    {
      "cell_type": "markdown",
      "metadata": {
        "id": "wJTdwRupJA00",
        "colab_type": "text"
      },
      "source": [
        "# Cap 2 Entorno de trabajo \n",
        "\n",
        "En esta sección voy a colocar la parte de configuración  \n",
        "del entorno de trabajo del captitulo 2."
      ]
    },
    {
      "cell_type": "code",
      "metadata": {
        "id": "EbLN-U0aJgbf",
        "colab_type": "code",
        "colab": {}
      },
      "source": [
        "#Comando para especificar la versión de TensorFlow\n",
        "%tensorflow_version 2.x"
      ],
      "execution_count": 61,
      "outputs": []
    },
    {
      "cell_type": "code",
      "metadata": {
        "id": "jBQgNdDnJ8Tb",
        "colab_type": "code",
        "colab": {
          "base_uri": "https://localhost:8080/",
          "height": 0
        },
        "outputId": "03e1bcee-6de2-49d4-d592-1ac40d4f537b"
      },
      "source": [
        "#Importar la libreria TF\n",
        "import tensorflow as tf\n",
        "\n",
        "#Validar si hay disponible una GPU\n",
        "print(\"GPU Available: \", tf.config.list_physical_devices('GPU'))"
      ],
      "execution_count": 62,
      "outputs": [
        {
          "output_type": "stream",
          "text": [
            "GPU Available:  [PhysicalDevice(name='/physical_device:GPU:0', device_type='GPU')]\n"
          ],
          "name": "stdout"
        }
      ]
    },
    {
      "cell_type": "code",
      "metadata": {
        "id": "lbpz8tWTKZu8",
        "colab_type": "code",
        "colab": {
          "base_uri": "https://localhost:8080/",
          "height": 0
        },
        "outputId": "7bc8408e-8468-42a1-9336-b434316ca316"
      },
      "source": [
        "# Versión de TF \n",
        "print(tf.__version__)"
      ],
      "execution_count": 63,
      "outputs": [
        {
          "output_type": "stream",
          "text": [
            "2.3.0\n"
          ],
          "name": "stdout"
        }
      ]
    },
    {
      "cell_type": "code",
      "metadata": {
        "id": "Wq0ypt01MEox",
        "colab_type": "code",
        "colab": {
          "base_uri": "https://localhost:8080/",
          "height": 0
        },
        "outputId": "e74a534f-b2d6-45d2-a1b8-32d78df31778"
      },
      "source": [
        "#Para Keras\n",
        "from tensorflow import keras\n",
        "print(tf.keras.__version__)"
      ],
      "execution_count": 64,
      "outputs": [
        {
          "output_type": "stream",
          "text": [
            "2.4.0\n"
          ],
          "name": "stdout"
        }
      ]
    },
    {
      "cell_type": "markdown",
      "metadata": {
        "id": "2x43OK10M13e",
        "colab_type": "text"
      },
      "source": [
        "# Cap 3 Python y sus librerías\n",
        "\n",
        "Capitulo enfocado en el lenguaje python. \n",
        "\n"
      ]
    },
    {
      "cell_type": "code",
      "metadata": {
        "id": "QFHMNRlEMf78",
        "colab_type": "code",
        "colab": {
          "base_uri": "https://localhost:8080/",
          "height": 1000
        },
        "outputId": "4c912845-dc2f-467e-81ce-c6ca3d784d27"
      },
      "source": [
        "#Comando help para python\n",
        "help(str)"
      ],
      "execution_count": 65,
      "outputs": [
        {
          "output_type": "stream",
          "text": [
            "Help on class str in module builtins:\n",
            "\n",
            "class str(object)\n",
            " |  str(object='') -> str\n",
            " |  str(bytes_or_buffer[, encoding[, errors]]) -> str\n",
            " |  \n",
            " |  Create a new string object from the given object. If encoding or\n",
            " |  errors is specified, then the object must expose a data buffer\n",
            " |  that will be decoded using the given encoding and error handler.\n",
            " |  Otherwise, returns the result of object.__str__() (if defined)\n",
            " |  or repr(object).\n",
            " |  encoding defaults to sys.getdefaultencoding().\n",
            " |  errors defaults to 'strict'.\n",
            " |  \n",
            " |  Methods defined here:\n",
            " |  \n",
            " |  __add__(self, value, /)\n",
            " |      Return self+value.\n",
            " |  \n",
            " |  __contains__(self, key, /)\n",
            " |      Return key in self.\n",
            " |  \n",
            " |  __eq__(self, value, /)\n",
            " |      Return self==value.\n",
            " |  \n",
            " |  __format__(...)\n",
            " |      S.__format__(format_spec) -> str\n",
            " |      \n",
            " |      Return a formatted version of S as described by format_spec.\n",
            " |  \n",
            " |  __ge__(self, value, /)\n",
            " |      Return self>=value.\n",
            " |  \n",
            " |  __getattribute__(self, name, /)\n",
            " |      Return getattr(self, name).\n",
            " |  \n",
            " |  __getitem__(self, key, /)\n",
            " |      Return self[key].\n",
            " |  \n",
            " |  __getnewargs__(...)\n",
            " |  \n",
            " |  __gt__(self, value, /)\n",
            " |      Return self>value.\n",
            " |  \n",
            " |  __hash__(self, /)\n",
            " |      Return hash(self).\n",
            " |  \n",
            " |  __iter__(self, /)\n",
            " |      Implement iter(self).\n",
            " |  \n",
            " |  __le__(self, value, /)\n",
            " |      Return self<=value.\n",
            " |  \n",
            " |  __len__(self, /)\n",
            " |      Return len(self).\n",
            " |  \n",
            " |  __lt__(self, value, /)\n",
            " |      Return self<value.\n",
            " |  \n",
            " |  __mod__(self, value, /)\n",
            " |      Return self%value.\n",
            " |  \n",
            " |  __mul__(self, value, /)\n",
            " |      Return self*value.\n",
            " |  \n",
            " |  __ne__(self, value, /)\n",
            " |      Return self!=value.\n",
            " |  \n",
            " |  __new__(*args, **kwargs) from builtins.type\n",
            " |      Create and return a new object.  See help(type) for accurate signature.\n",
            " |  \n",
            " |  __repr__(self, /)\n",
            " |      Return repr(self).\n",
            " |  \n",
            " |  __rmod__(self, value, /)\n",
            " |      Return value%self.\n",
            " |  \n",
            " |  __rmul__(self, value, /)\n",
            " |      Return value*self.\n",
            " |  \n",
            " |  __sizeof__(...)\n",
            " |      S.__sizeof__() -> size of S in memory, in bytes\n",
            " |  \n",
            " |  __str__(self, /)\n",
            " |      Return str(self).\n",
            " |  \n",
            " |  capitalize(...)\n",
            " |      S.capitalize() -> str\n",
            " |      \n",
            " |      Return a capitalized version of S, i.e. make the first character\n",
            " |      have upper case and the rest lower case.\n",
            " |  \n",
            " |  casefold(...)\n",
            " |      S.casefold() -> str\n",
            " |      \n",
            " |      Return a version of S suitable for caseless comparisons.\n",
            " |  \n",
            " |  center(...)\n",
            " |      S.center(width[, fillchar]) -> str\n",
            " |      \n",
            " |      Return S centered in a string of length width. Padding is\n",
            " |      done using the specified fill character (default is a space)\n",
            " |  \n",
            " |  count(...)\n",
            " |      S.count(sub[, start[, end]]) -> int\n",
            " |      \n",
            " |      Return the number of non-overlapping occurrences of substring sub in\n",
            " |      string S[start:end].  Optional arguments start and end are\n",
            " |      interpreted as in slice notation.\n",
            " |  \n",
            " |  encode(...)\n",
            " |      S.encode(encoding='utf-8', errors='strict') -> bytes\n",
            " |      \n",
            " |      Encode S using the codec registered for encoding. Default encoding\n",
            " |      is 'utf-8'. errors may be given to set a different error\n",
            " |      handling scheme. Default is 'strict' meaning that encoding errors raise\n",
            " |      a UnicodeEncodeError. Other possible values are 'ignore', 'replace' and\n",
            " |      'xmlcharrefreplace' as well as any other name registered with\n",
            " |      codecs.register_error that can handle UnicodeEncodeErrors.\n",
            " |  \n",
            " |  endswith(...)\n",
            " |      S.endswith(suffix[, start[, end]]) -> bool\n",
            " |      \n",
            " |      Return True if S ends with the specified suffix, False otherwise.\n",
            " |      With optional start, test S beginning at that position.\n",
            " |      With optional end, stop comparing S at that position.\n",
            " |      suffix can also be a tuple of strings to try.\n",
            " |  \n",
            " |  expandtabs(...)\n",
            " |      S.expandtabs(tabsize=8) -> str\n",
            " |      \n",
            " |      Return a copy of S where all tab characters are expanded using spaces.\n",
            " |      If tabsize is not given, a tab size of 8 characters is assumed.\n",
            " |  \n",
            " |  find(...)\n",
            " |      S.find(sub[, start[, end]]) -> int\n",
            " |      \n",
            " |      Return the lowest index in S where substring sub is found,\n",
            " |      such that sub is contained within S[start:end].  Optional\n",
            " |      arguments start and end are interpreted as in slice notation.\n",
            " |      \n",
            " |      Return -1 on failure.\n",
            " |  \n",
            " |  format(...)\n",
            " |      S.format(*args, **kwargs) -> str\n",
            " |      \n",
            " |      Return a formatted version of S, using substitutions from args and kwargs.\n",
            " |      The substitutions are identified by braces ('{' and '}').\n",
            " |  \n",
            " |  format_map(...)\n",
            " |      S.format_map(mapping) -> str\n",
            " |      \n",
            " |      Return a formatted version of S, using substitutions from mapping.\n",
            " |      The substitutions are identified by braces ('{' and '}').\n",
            " |  \n",
            " |  index(...)\n",
            " |      S.index(sub[, start[, end]]) -> int\n",
            " |      \n",
            " |      Return the lowest index in S where substring sub is found, \n",
            " |      such that sub is contained within S[start:end].  Optional\n",
            " |      arguments start and end are interpreted as in slice notation.\n",
            " |      \n",
            " |      Raises ValueError when the substring is not found.\n",
            " |  \n",
            " |  isalnum(...)\n",
            " |      S.isalnum() -> bool\n",
            " |      \n",
            " |      Return True if all characters in S are alphanumeric\n",
            " |      and there is at least one character in S, False otherwise.\n",
            " |  \n",
            " |  isalpha(...)\n",
            " |      S.isalpha() -> bool\n",
            " |      \n",
            " |      Return True if all characters in S are alphabetic\n",
            " |      and there is at least one character in S, False otherwise.\n",
            " |  \n",
            " |  isdecimal(...)\n",
            " |      S.isdecimal() -> bool\n",
            " |      \n",
            " |      Return True if there are only decimal characters in S,\n",
            " |      False otherwise.\n",
            " |  \n",
            " |  isdigit(...)\n",
            " |      S.isdigit() -> bool\n",
            " |      \n",
            " |      Return True if all characters in S are digits\n",
            " |      and there is at least one character in S, False otherwise.\n",
            " |  \n",
            " |  isidentifier(...)\n",
            " |      S.isidentifier() -> bool\n",
            " |      \n",
            " |      Return True if S is a valid identifier according\n",
            " |      to the language definition.\n",
            " |      \n",
            " |      Use keyword.iskeyword() to test for reserved identifiers\n",
            " |      such as \"def\" and \"class\".\n",
            " |  \n",
            " |  islower(...)\n",
            " |      S.islower() -> bool\n",
            " |      \n",
            " |      Return True if all cased characters in S are lowercase and there is\n",
            " |      at least one cased character in S, False otherwise.\n",
            " |  \n",
            " |  isnumeric(...)\n",
            " |      S.isnumeric() -> bool\n",
            " |      \n",
            " |      Return True if there are only numeric characters in S,\n",
            " |      False otherwise.\n",
            " |  \n",
            " |  isprintable(...)\n",
            " |      S.isprintable() -> bool\n",
            " |      \n",
            " |      Return True if all characters in S are considered\n",
            " |      printable in repr() or S is empty, False otherwise.\n",
            " |  \n",
            " |  isspace(...)\n",
            " |      S.isspace() -> bool\n",
            " |      \n",
            " |      Return True if all characters in S are whitespace\n",
            " |      and there is at least one character in S, False otherwise.\n",
            " |  \n",
            " |  istitle(...)\n",
            " |      S.istitle() -> bool\n",
            " |      \n",
            " |      Return True if S is a titlecased string and there is at least one\n",
            " |      character in S, i.e. upper- and titlecase characters may only\n",
            " |      follow uncased characters and lowercase characters only cased ones.\n",
            " |      Return False otherwise.\n",
            " |  \n",
            " |  isupper(...)\n",
            " |      S.isupper() -> bool\n",
            " |      \n",
            " |      Return True if all cased characters in S are uppercase and there is\n",
            " |      at least one cased character in S, False otherwise.\n",
            " |  \n",
            " |  join(...)\n",
            " |      S.join(iterable) -> str\n",
            " |      \n",
            " |      Return a string which is the concatenation of the strings in the\n",
            " |      iterable.  The separator between elements is S.\n",
            " |  \n",
            " |  ljust(...)\n",
            " |      S.ljust(width[, fillchar]) -> str\n",
            " |      \n",
            " |      Return S left-justified in a Unicode string of length width. Padding is\n",
            " |      done using the specified fill character (default is a space).\n",
            " |  \n",
            " |  lower(...)\n",
            " |      S.lower() -> str\n",
            " |      \n",
            " |      Return a copy of the string S converted to lowercase.\n",
            " |  \n",
            " |  lstrip(...)\n",
            " |      S.lstrip([chars]) -> str\n",
            " |      \n",
            " |      Return a copy of the string S with leading whitespace removed.\n",
            " |      If chars is given and not None, remove characters in chars instead.\n",
            " |  \n",
            " |  partition(...)\n",
            " |      S.partition(sep) -> (head, sep, tail)\n",
            " |      \n",
            " |      Search for the separator sep in S, and return the part before it,\n",
            " |      the separator itself, and the part after it.  If the separator is not\n",
            " |      found, return S and two empty strings.\n",
            " |  \n",
            " |  replace(...)\n",
            " |      S.replace(old, new[, count]) -> str\n",
            " |      \n",
            " |      Return a copy of S with all occurrences of substring\n",
            " |      old replaced by new.  If the optional argument count is\n",
            " |      given, only the first count occurrences are replaced.\n",
            " |  \n",
            " |  rfind(...)\n",
            " |      S.rfind(sub[, start[, end]]) -> int\n",
            " |      \n",
            " |      Return the highest index in S where substring sub is found,\n",
            " |      such that sub is contained within S[start:end].  Optional\n",
            " |      arguments start and end are interpreted as in slice notation.\n",
            " |      \n",
            " |      Return -1 on failure.\n",
            " |  \n",
            " |  rindex(...)\n",
            " |      S.rindex(sub[, start[, end]]) -> int\n",
            " |      \n",
            " |      Return the highest index in S where substring sub is found,\n",
            " |      such that sub is contained within S[start:end].  Optional\n",
            " |      arguments start and end are interpreted as in slice notation.\n",
            " |      \n",
            " |      Raises ValueError when the substring is not found.\n",
            " |  \n",
            " |  rjust(...)\n",
            " |      S.rjust(width[, fillchar]) -> str\n",
            " |      \n",
            " |      Return S right-justified in a string of length width. Padding is\n",
            " |      done using the specified fill character (default is a space).\n",
            " |  \n",
            " |  rpartition(...)\n",
            " |      S.rpartition(sep) -> (head, sep, tail)\n",
            " |      \n",
            " |      Search for the separator sep in S, starting at the end of S, and return\n",
            " |      the part before it, the separator itself, and the part after it.  If the\n",
            " |      separator is not found, return two empty strings and S.\n",
            " |  \n",
            " |  rsplit(...)\n",
            " |      S.rsplit(sep=None, maxsplit=-1) -> list of strings\n",
            " |      \n",
            " |      Return a list of the words in S, using sep as the\n",
            " |      delimiter string, starting at the end of the string and\n",
            " |      working to the front.  If maxsplit is given, at most maxsplit\n",
            " |      splits are done. If sep is not specified, any whitespace string\n",
            " |      is a separator.\n",
            " |  \n",
            " |  rstrip(...)\n",
            " |      S.rstrip([chars]) -> str\n",
            " |      \n",
            " |      Return a copy of the string S with trailing whitespace removed.\n",
            " |      If chars is given and not None, remove characters in chars instead.\n",
            " |  \n",
            " |  split(...)\n",
            " |      S.split(sep=None, maxsplit=-1) -> list of strings\n",
            " |      \n",
            " |      Return a list of the words in S, using sep as the\n",
            " |      delimiter string.  If maxsplit is given, at most maxsplit\n",
            " |      splits are done. If sep is not specified or is None, any\n",
            " |      whitespace string is a separator and empty strings are\n",
            " |      removed from the result.\n",
            " |  \n",
            " |  splitlines(...)\n",
            " |      S.splitlines([keepends]) -> list of strings\n",
            " |      \n",
            " |      Return a list of the lines in S, breaking at line boundaries.\n",
            " |      Line breaks are not included in the resulting list unless keepends\n",
            " |      is given and true.\n",
            " |  \n",
            " |  startswith(...)\n",
            " |      S.startswith(prefix[, start[, end]]) -> bool\n",
            " |      \n",
            " |      Return True if S starts with the specified prefix, False otherwise.\n",
            " |      With optional start, test S beginning at that position.\n",
            " |      With optional end, stop comparing S at that position.\n",
            " |      prefix can also be a tuple of strings to try.\n",
            " |  \n",
            " |  strip(...)\n",
            " |      S.strip([chars]) -> str\n",
            " |      \n",
            " |      Return a copy of the string S with leading and trailing\n",
            " |      whitespace removed.\n",
            " |      If chars is given and not None, remove characters in chars instead.\n",
            " |  \n",
            " |  swapcase(...)\n",
            " |      S.swapcase() -> str\n",
            " |      \n",
            " |      Return a copy of S with uppercase characters converted to lowercase\n",
            " |      and vice versa.\n",
            " |  \n",
            " |  title(...)\n",
            " |      S.title() -> str\n",
            " |      \n",
            " |      Return a titlecased version of S, i.e. words start with title case\n",
            " |      characters, all remaining cased characters have lower case.\n",
            " |  \n",
            " |  translate(...)\n",
            " |      S.translate(table) -> str\n",
            " |      \n",
            " |      Return a copy of the string S in which each character has been mapped\n",
            " |      through the given translation table. The table must implement\n",
            " |      lookup/indexing via __getitem__, for instance a dictionary or list,\n",
            " |      mapping Unicode ordinals to Unicode ordinals, strings, or None. If\n",
            " |      this operation raises LookupError, the character is left untouched.\n",
            " |      Characters mapped to None are deleted.\n",
            " |  \n",
            " |  upper(...)\n",
            " |      S.upper() -> str\n",
            " |      \n",
            " |      Return a copy of S converted to uppercase.\n",
            " |  \n",
            " |  zfill(...)\n",
            " |      S.zfill(width) -> str\n",
            " |      \n",
            " |      Pad a numeric string S with zeros on the left, to fill a field\n",
            " |      of the specified width. The string S is never truncated.\n",
            " |  \n",
            " |  ----------------------------------------------------------------------\n",
            " |  Static methods defined here:\n",
            " |  \n",
            " |  maketrans(x, y=None, z=None, /)\n",
            " |      Return a translation table usable for str.translate().\n",
            " |      \n",
            " |      If there is only one argument, it must be a dictionary mapping Unicode\n",
            " |      ordinals (integers) or characters to Unicode ordinals, strings or None.\n",
            " |      Character keys will be then converted to ordinals.\n",
            " |      If there are two arguments, they must be strings of equal length, and\n",
            " |      in the resulting dictionary, each character in x will be mapped to the\n",
            " |      character at the same position in y. If there is a third argument, it\n",
            " |      must be a string, whose characters will be mapped to None in the result.\n",
            "\n"
          ],
          "name": "stdout"
        }
      ]
    },
    {
      "cell_type": "code",
      "metadata": {
        "id": "fgphM8FaNWHF",
        "colab_type": "code",
        "colab": {
          "base_uri": "https://localhost:8080/",
          "height": 1000
        },
        "outputId": "4a65cdd8-2be5-4cd8-ca11-59e33b2b6816"
      },
      "source": [
        "#Comando útil para ver los metodos de un objeto \n",
        "dir(str)"
      ],
      "execution_count": 66,
      "outputs": [
        {
          "output_type": "execute_result",
          "data": {
            "text/plain": [
              "['__add__',\n",
              " '__class__',\n",
              " '__contains__',\n",
              " '__delattr__',\n",
              " '__dir__',\n",
              " '__doc__',\n",
              " '__eq__',\n",
              " '__format__',\n",
              " '__ge__',\n",
              " '__getattribute__',\n",
              " '__getitem__',\n",
              " '__getnewargs__',\n",
              " '__gt__',\n",
              " '__hash__',\n",
              " '__init__',\n",
              " '__init_subclass__',\n",
              " '__iter__',\n",
              " '__le__',\n",
              " '__len__',\n",
              " '__lt__',\n",
              " '__mod__',\n",
              " '__mul__',\n",
              " '__ne__',\n",
              " '__new__',\n",
              " '__reduce__',\n",
              " '__reduce_ex__',\n",
              " '__repr__',\n",
              " '__rmod__',\n",
              " '__rmul__',\n",
              " '__setattr__',\n",
              " '__sizeof__',\n",
              " '__str__',\n",
              " '__subclasshook__',\n",
              " 'capitalize',\n",
              " 'casefold',\n",
              " 'center',\n",
              " 'count',\n",
              " 'encode',\n",
              " 'endswith',\n",
              " 'expandtabs',\n",
              " 'find',\n",
              " 'format',\n",
              " 'format_map',\n",
              " 'index',\n",
              " 'isalnum',\n",
              " 'isalpha',\n",
              " 'isdecimal',\n",
              " 'isdigit',\n",
              " 'isidentifier',\n",
              " 'islower',\n",
              " 'isnumeric',\n",
              " 'isprintable',\n",
              " 'isspace',\n",
              " 'istitle',\n",
              " 'isupper',\n",
              " 'join',\n",
              " 'ljust',\n",
              " 'lower',\n",
              " 'lstrip',\n",
              " 'maketrans',\n",
              " 'partition',\n",
              " 'replace',\n",
              " 'rfind',\n",
              " 'rindex',\n",
              " 'rjust',\n",
              " 'rpartition',\n",
              " 'rsplit',\n",
              " 'rstrip',\n",
              " 'split',\n",
              " 'splitlines',\n",
              " 'startswith',\n",
              " 'strip',\n",
              " 'swapcase',\n",
              " 'title',\n",
              " 'translate',\n",
              " 'upper',\n",
              " 'zfill']"
            ]
          },
          "metadata": {
            "tags": []
          },
          "execution_count": 66
        }
      ]
    },
    {
      "cell_type": "code",
      "metadata": {
        "id": "QEC8agDfNix9",
        "colab_type": "code",
        "colab": {
          "base_uri": "https://localhost:8080/",
          "height": 35
        },
        "outputId": "f34fd8eb-d690-4b6c-d618-7edad238775c"
      },
      "source": [
        "#Importación de librerías mediante las palabras reservadas 'from' e 'import'\n",
        "from random import randint\n",
        "randomint = randint(1,100)\n",
        "print(randomint)"
      ],
      "execution_count": 67,
      "outputs": [
        {
          "output_type": "stream",
          "text": [
            "9\n"
          ],
          "name": "stdout"
        }
      ]
    },
    {
      "cell_type": "code",
      "metadata": {
        "id": "WxUI3o33OGWQ",
        "colab_type": "code",
        "colab": {
          "base_uri": "https://localhost:8080/",
          "height": 35
        },
        "outputId": "1116d1f0-9c10-4a46-b1e5-fa154f718dcd"
      },
      "source": [
        "import random\n",
        "randomint = random.randint(1,100)\n",
        "print(randomint)"
      ],
      "execution_count": 68,
      "outputs": [
        {
          "output_type": "stream",
          "text": [
            "17\n"
          ],
          "name": "stdout"
        }
      ]
    },
    {
      "cell_type": "markdown",
      "metadata": {
        "id": "yLUblL24Our3",
        "colab_type": "text"
      },
      "source": [
        "### Tipos de datos y estructuras en python"
      ]
    },
    {
      "cell_type": "code",
      "metadata": {
        "id": "mvHoSoL8Ol7b",
        "colab_type": "code",
        "colab": {
          "base_uri": "https://localhost:8080/",
          "height": 156
        },
        "outputId": "c148b4ba-434d-4f54-cc4d-6b9f8a4ed85f"
      },
      "source": [
        "# basicos\n",
        "\n",
        "x = 10 \n",
        "print(x)\n",
        "print(type(x))\n",
        "\n",
        "x = \"hola\"\n",
        "print(x)\n",
        "print(type(x))\n",
        "\n",
        "x = 10.0\n",
        "print(x)\n",
        "print(type(x))\n",
        "\n",
        "x = True\n",
        "print(x)\n",
        "print(type(x))"
      ],
      "execution_count": 69,
      "outputs": [
        {
          "output_type": "stream",
          "text": [
            "10\n",
            "<class 'int'>\n",
            "hola\n",
            "<class 'str'>\n",
            "10.0\n",
            "<class 'float'>\n",
            "True\n",
            "<class 'bool'>\n"
          ],
          "name": "stdout"
        }
      ]
    },
    {
      "cell_type": "code",
      "metadata": {
        "id": "5MjJztruPZ5Q",
        "colab_type": "code",
        "colab": {
          "base_uri": "https://localhost:8080/",
          "height": 87
        },
        "outputId": "adb677c1-839b-4606-83f2-ebed2af196cf"
      },
      "source": [
        "#Operadores basicos\n",
        "print(5/2)\n",
        "print(5//2) #División redondeada\n",
        "print(5%2)\n",
        "print(5**2)\n"
      ],
      "execution_count": 70,
      "outputs": [
        {
          "output_type": "stream",
          "text": [
            "2.5\n",
            "2\n",
            "1\n",
            "25\n"
          ],
          "name": "stdout"
        }
      ]
    },
    {
      "cell_type": "code",
      "metadata": {
        "id": "1eNj1LldPgZB",
        "colab_type": "code",
        "colab": {
          "base_uri": "https://localhost:8080/",
          "height": 52
        },
        "outputId": "11111bef-165e-4a07-debf-e91c06ecbc84"
      },
      "source": [
        "# operadores += y -= \n",
        "IntegerVar = 10 \n",
        "IntegerVar += 10 \n",
        "print (IntegerVar)\n",
        "\n",
        "StringVar = \"Deep\"\n",
        "StringVar += \" Learning\"\n",
        "print (StringVar)"
      ],
      "execution_count": 71,
      "outputs": [
        {
          "output_type": "stream",
          "text": [
            "20\n",
            "Deep Learning\n"
          ],
          "name": "stdout"
        }
      ]
    },
    {
      "cell_type": "code",
      "metadata": {
        "id": "SjKWoKE5P_Cn",
        "colab_type": "code",
        "colab": {
          "base_uri": "https://localhost:8080/",
          "height": 52
        },
        "outputId": "7bb6f8e0-ac36-4021-de1b-450bbdde7f09"
      },
      "source": [
        "# asigunasiones multiples\n",
        "IntegerVar, StringVar = StringVar, IntegerVar\n",
        "print(IntegerVar)\n",
        "print(StringVar)"
      ],
      "execution_count": 72,
      "outputs": [
        {
          "output_type": "stream",
          "text": [
            "Deep Learning\n",
            "20\n"
          ],
          "name": "stdout"
        }
      ]
    },
    {
      "cell_type": "markdown",
      "metadata": {
        "id": "_2UbyyWN94J_",
        "colab_type": "text"
      },
      "source": [
        "#### Estructuras de datos"
      ]
    },
    {
      "cell_type": "code",
      "metadata": {
        "id": "i3_T5KPl9-TE",
        "colab_type": "code",
        "colab": {
          "base_uri": "https://localhost:8080/",
          "height": 0
        },
        "outputId": "ea2e2d23-5e77-403e-8428-a6abd2eced15"
      },
      "source": [
        "# listas\n",
        "x = [5,\"hello\",1.8]\n",
        "print(x)\n",
        "len(x)"
      ],
      "execution_count": 73,
      "outputs": [
        {
          "output_type": "stream",
          "text": [
            "[5, 'hello', 1.8]\n"
          ],
          "name": "stdout"
        },
        {
          "output_type": "execute_result",
          "data": {
            "text/plain": [
              "3"
            ]
          },
          "metadata": {
            "tags": []
          },
          "execution_count": 73
        }
      ]
    },
    {
      "cell_type": "code",
      "metadata": {
        "id": "zGrc_jFZ-IUg",
        "colab_type": "code",
        "colab": {
          "base_uri": "https://localhost:8080/",
          "height": 0
        },
        "outputId": "e67c5799-6dc4-48a8-85b6-ddd8d331fcc8"
      },
      "source": [
        "x.append(100)\n",
        "print(x)\n",
        "print(len(x))"
      ],
      "execution_count": 74,
      "outputs": [
        {
          "output_type": "stream",
          "text": [
            "[5, 'hello', 1.8, 100]\n",
            "4\n"
          ],
          "name": "stdout"
        }
      ]
    },
    {
      "cell_type": "code",
      "metadata": {
        "id": "gL4a9wjz-WIj",
        "colab_type": "code",
        "colab": {
          "base_uri": "https://localhost:8080/",
          "height": 0
        },
        "outputId": "88454f7f-0c8b-4eb4-84ff-ac733335dce8"
      },
      "source": [
        "x[1] = \"Deep\"\n",
        "print(x)"
      ],
      "execution_count": 75,
      "outputs": [
        {
          "output_type": "stream",
          "text": [
            "[5, 'Deep', 1.8, 100]\n"
          ],
          "name": "stdout"
        }
      ]
    },
    {
      "cell_type": "code",
      "metadata": {
        "id": "0mPRdfM5-bnz",
        "colab_type": "code",
        "colab": {
          "base_uri": "https://localhost:8080/",
          "height": 0
        },
        "outputId": "f8717906-acd4-4800-e939-b8b2353684b9"
      },
      "source": [
        "# concatenar listas\n",
        "y = [2.1,\"learning\"]\n",
        "z = x + y\n",
        "print (z)"
      ],
      "execution_count": 76,
      "outputs": [
        {
          "output_type": "stream",
          "text": [
            "[5, 'Deep', 1.8, 100, 2.1, 'learning']\n"
          ],
          "name": "stdout"
        }
      ]
    },
    {
      "cell_type": "code",
      "metadata": {
        "id": "uygwZEfT-jwa",
        "colab_type": "code",
        "colab": {
          "base_uri": "https://localhost:8080/",
          "height": 0
        },
        "outputId": "7c3d73da-908b-4940-8839-478e339d68d6"
      },
      "source": [
        "#indexación de listas\n",
        "x = [5,\"deep\",1.8]\n",
        "print(\"primer elemento --> x[0]: \", x[0])\n",
        "print(\"segundo elemento --> x[1]: \", x[1])\n",
        "print(\"último elemento --> x[-1]: \", x[-1])\n",
        "print(\"penúltimo elemento --> x[-2]: \", x[-2])"
      ],
      "execution_count": 77,
      "outputs": [
        {
          "output_type": "stream",
          "text": [
            "primer elemento --> x[0]:  5\n",
            "segundo elemento --> x[1]:  deep\n",
            "último elemento --> x[-1]:  1.8\n",
            "penúltimo elemento --> x[-2]:  deep\n"
          ],
          "name": "stdout"
        }
      ]
    },
    {
      "cell_type": "code",
      "metadata": {
        "id": "Y3djauAy-24n",
        "colab_type": "code",
        "colab": {
          "base_uri": "https://localhost:8080/",
          "height": 0
        },
        "outputId": "d98427f2-4a33-4215-d73c-b95b7bc0fdff"
      },
      "source": [
        "print(\"todos los índices --> x[:]: \", x[:])\n",
        "print(\"desde el índice 1 hasta el final --> x[1:]: \", x[1:])\n",
        "print(\"desde el índice 1 hasta el 2 (no se incluye el 2) [1,2) ) --> x[1:2]: \", x[1:2])\n",
        "print(\"desde el índice 0 hasta el final sin incluir al último --> x[:-1]: \", x[:-1])"
      ],
      "execution_count": 78,
      "outputs": [
        {
          "output_type": "stream",
          "text": [
            "todos los índices --> x[:]:  [5, 'deep', 1.8]\n",
            "desde el índice 1 hasta el final --> x[1:]:  ['deep', 1.8]\n",
            "desde el índice 1 hasta el 2 (no se incluye el 2) [1,2) ) --> x[1:2]:  ['deep']\n",
            "desde el índice 0 hasta el final sin incluir al último --> x[:-1]:  [5, 'deep']\n"
          ],
          "name": "stdout"
        }
      ]
    },
    {
      "cell_type": "code",
      "metadata": {
        "id": "h8779f94_djX",
        "colab_type": "code",
        "colab": {
          "base_uri": "https://localhost:8080/",
          "height": 0
        },
        "outputId": "889ab37e-6dac-41e1-fded-912fb0c98023"
      },
      "source": [
        "#tuplas, son colecciones ¡inmutables! \n",
        "x = (1,\"deep\",3)\n",
        "print(x)\n",
        "print(x[1])\n"
      ],
      "execution_count": 79,
      "outputs": [
        {
          "output_type": "stream",
          "text": [
            "(1, 'deep', 3)\n",
            "deep\n"
          ],
          "name": "stdout"
        }
      ]
    },
    {
      "cell_type": "code",
      "metadata": {
        "id": "HCy5hglxEaXw",
        "colab_type": "code",
        "colab": {
          "base_uri": "https://localhost:8080/",
          "height": 0
        },
        "outputId": "fdcb9e44-8af7-4f89-bb5b-71da9ed3617f"
      },
      "source": [
        "x = x + (4,\"learning\")\n",
        "print(x)\n",
        "print(x[-1])"
      ],
      "execution_count": 80,
      "outputs": [
        {
          "output_type": "stream",
          "text": [
            "(1, 'deep', 3, 4, 'learning')\n",
            "learning\n"
          ],
          "name": "stdout"
        }
      ]
    },
    {
      "cell_type": "code",
      "metadata": {
        "id": "L4IL6zCyJnSd",
        "colab_type": "code",
        "colab": {
          "base_uri": "https://localhost:8080/",
          "height": 0
        },
        "outputId": "ddb7ead5-509c-41e0-8bf7-46486d6c54e6"
      },
      "source": [
        "# Dicionarios\n",
        "persona = {'nombre': 'Cristian Gomez',\n",
        "           'profesion': 'Data Science'}\n",
        "print (persona)\n",
        "print (persona['nombre'])\n",
        "print (persona['profesion'])"
      ],
      "execution_count": 81,
      "outputs": [
        {
          "output_type": "stream",
          "text": [
            "{'nombre': 'Cristian Gomez', 'profesion': 'Data Science'}\n",
            "Cristian Gomez\n",
            "Data Science\n"
          ],
          "name": "stdout"
        }
      ]
    },
    {
      "cell_type": "code",
      "metadata": {
        "id": "EGqTDX9ZONtG",
        "colab_type": "code",
        "colab": {
          "base_uri": "https://localhost:8080/",
          "height": 0
        },
        "outputId": "e31683e3-3547-43ef-c5e8-a656d2530e35"
      },
      "source": [
        "persona['profesion'] = 'Ingeniero'\n",
        "print (persona)"
      ],
      "execution_count": 82,
      "outputs": [
        {
          "output_type": "stream",
          "text": [
            "{'nombre': 'Cristian Gomez', 'profesion': 'Ingeniero'}\n"
          ],
          "name": "stdout"
        }
      ]
    },
    {
      "cell_type": "code",
      "metadata": {
        "id": "8l0FQmN4OccS",
        "colab_type": "code",
        "colab": {
          "base_uri": "https://localhost:8080/",
          "height": 0
        },
        "outputId": "0c7f4920-4a34-4c80-b470-fe4b4e054a88"
      },
      "source": [
        "persona['grupo'] = 24\n",
        "print (persona)"
      ],
      "execution_count": 83,
      "outputs": [
        {
          "output_type": "stream",
          "text": [
            "{'nombre': 'Cristian Gomez', 'profesion': 'Ingeniero', 'grupo': 24}\n"
          ],
          "name": "stdout"
        }
      ]
    },
    {
      "cell_type": "code",
      "metadata": {
        "id": "dJd1qByaO0Ub",
        "colab_type": "code",
        "colab": {
          "base_uri": "https://localhost:8080/",
          "height": 0
        },
        "outputId": "1aaeefa4-8b25-4fda-a6fd-8827a96ddfc4"
      },
      "source": [
        "print (len(persona))"
      ],
      "execution_count": 84,
      "outputs": [
        {
          "output_type": "stream",
          "text": [
            "3\n"
          ],
          "name": "stdout"
        }
      ]
    },
    {
      "cell_type": "markdown",
      "metadata": {
        "id": "dlQ9b3twPLfp",
        "colab_type": "text"
      },
      "source": [
        "### Sentencias de control y funciones"
      ]
    },
    {
      "cell_type": "code",
      "metadata": {
        "id": "EjZOOi3zPI57",
        "colab_type": "code",
        "colab": {
          "base_uri": "https://localhost:8080/",
          "height": 35
        },
        "outputId": "4c50c30e-9609-48b4-983a-d8eac136bb4d"
      },
      "source": [
        "# setencia if\n",
        "x = 6.5 \n",
        "if x < 5: \n",
        "    puntuacion = 'baja'\n",
        "elif x <= 7: # elif = else if\n",
        "    puntuacion = 'media'\n",
        "else: \n",
        "    puntuacion = 'alta'\n",
        "\n",
        "print(puntuacion)"
      ],
      "execution_count": 85,
      "outputs": [
        {
          "output_type": "stream",
          "text": [
            "media\n"
          ],
          "name": "stdout"
        }
      ]
    },
    {
      "cell_type": "code",
      "metadata": {
        "id": "vqFMHicsQ1WW",
        "colab_type": "code",
        "colab": {
          "base_uri": "https://localhost:8080/",
          "height": 35
        },
        "outputId": "371bcf9a-b718-48a9-fa5f-1add8af3d8bf"
      },
      "source": [
        "b = 1\n",
        "print (\"Paris\" if b >= 92 else \"Barcelona\")"
      ],
      "execution_count": 86,
      "outputs": [
        {
          "output_type": "stream",
          "text": [
            "Barcelona\n"
          ],
          "name": "stdout"
        }
      ]
    },
    {
      "cell_type": "code",
      "metadata": {
        "id": "suMdp1p-RuGc",
        "colab_type": "code",
        "colab": {
          "base_uri": "https://localhost:8080/",
          "height": 69
        },
        "outputId": "180812a1-bcf9-4811-bf46-1538e2367059"
      },
      "source": [
        "# bucle for\n",
        "for a in range (1,4): \n",
        "    print (a)"
      ],
      "execution_count": 87,
      "outputs": [
        {
          "output_type": "stream",
          "text": [
            "1\n",
            "2\n",
            "3\n"
          ],
          "name": "stdout"
        }
      ]
    },
    {
      "cell_type": "code",
      "metadata": {
        "id": "DFc9W_CiUMEV",
        "colab_type": "code",
        "colab": {
          "base_uri": "https://localhost:8080/",
          "height": 69
        },
        "outputId": "36a0a831-fbc3-457b-8315-10455c132012"
      },
      "source": [
        "universidades = [\"UPB\",\"UdA\",\"UNAL\"]\n",
        "for universidad in universidades:\n",
        "    print (universidad)"
      ],
      "execution_count": 88,
      "outputs": [
        {
          "output_type": "stream",
          "text": [
            "UPB\n",
            "UdA\n",
            "UNAL\n"
          ],
          "name": "stdout"
        }
      ]
    },
    {
      "cell_type": "code",
      "metadata": {
        "id": "NAHw6rhxU8i-",
        "colab_type": "code",
        "colab": {
          "base_uri": "https://localhost:8080/",
          "height": 35
        },
        "outputId": "539f4545-9af4-4583-9a76-264c63962e54"
      },
      "source": [
        "for universidad in universidades:\n",
        "    if universidad == \"UdA\":\n",
        "        break #termina el bucle, no procesa más elementos de la lista\n",
        "    print (universidad)"
      ],
      "execution_count": 89,
      "outputs": [
        {
          "output_type": "stream",
          "text": [
            "UPB\n"
          ],
          "name": "stdout"
        }
      ]
    },
    {
      "cell_type": "code",
      "metadata": {
        "id": "oPviorpfVfP7",
        "colab_type": "code",
        "colab": {
          "base_uri": "https://localhost:8080/",
          "height": 52
        },
        "outputId": "6297dea7-750a-4c1a-a8c3-da33dcaac0af"
      },
      "source": [
        "for universidad in universidades:\n",
        "    if universidad == \"UdA\":\n",
        "        continue #omite el item acual, pero continua el bucle\n",
        "    print (universidad)"
      ],
      "execution_count": 90,
      "outputs": [
        {
          "output_type": "stream",
          "text": [
            "UPB\n",
            "UNAL\n"
          ],
          "name": "stdout"
        }
      ]
    },
    {
      "cell_type": "code",
      "metadata": {
        "id": "t3q1zqkXXJk8",
        "colab_type": "code",
        "colab": {
          "base_uri": "https://localhost:8080/",
          "height": 69
        },
        "outputId": "7aa83b1c-24ac-453d-dd1a-7a7a652fbb5d"
      },
      "source": [
        "# Bucle while\n",
        "\n",
        "x=3 \n",
        "while x > 0: \n",
        "    x = x - 1\n",
        "    print(x)"
      ],
      "execution_count": 91,
      "outputs": [
        {
          "output_type": "stream",
          "text": [
            "2\n",
            "1\n",
            "0\n"
          ],
          "name": "stdout"
        }
      ]
    },
    {
      "cell_type": "markdown",
      "metadata": {
        "id": "9os-TvL6fFLo",
        "colab_type": "text"
      },
      "source": [
        "### Funciones"
      ]
    },
    {
      "cell_type": "code",
      "metadata": {
        "id": "mvfSdOuhewBd",
        "colab_type": "code",
        "colab": {
          "base_uri": "https://localhost:8080/",
          "height": 69
        },
        "outputId": "6d63ddf3-8b99-4247-dc3c-b78133469f75"
      },
      "source": [
        "# declaración de funciones\n",
        "def mi_universidad (universidad = 'UPB'):\n",
        "    y = \"Mi universidad es la \" + universidad\n",
        "    return (y)\n",
        "\n",
        "print (mi_universidad(\"UDM\"))\n",
        "print (mi_universidad(universidad = \"UNAL\"))\n",
        "print (mi_universidad())"
      ],
      "execution_count": 93,
      "outputs": [
        {
          "output_type": "stream",
          "text": [
            "Mi universidad es la UDM\n",
            "Mi universidad es la UNAL\n",
            "Mi universidad es la UPB\n"
          ],
          "name": "stdout"
        }
      ]
    },
    {
      "cell_type": "code",
      "metadata": {
        "id": "UkY3YaTyfmhr",
        "colab_type": "code",
        "colab": {
          "base_uri": "https://localhost:8080/",
          "height": 35
        },
        "outputId": "cc6210f7-66e6-4534-e3c1-8b1cf5503820"
      },
      "source": [
        "# funciones con argumentos iniciales\n",
        "def foo():\n",
        "    a, b = 4, 5\n",
        "    return a, b\n",
        "\n",
        "foo()"
      ],
      "execution_count": 94,
      "outputs": [
        {
          "output_type": "execute_result",
          "data": {
            "text/plain": [
              "(4, 5)"
            ]
          },
          "metadata": {
            "tags": []
          },
          "execution_count": 94
        }
      ]
    },
    {
      "cell_type": "code",
      "metadata": {
        "id": "JVWonrIMgMgV",
        "colab_type": "code",
        "colab": {
          "base_uri": "https://localhost:8080/",
          "height": 35
        },
        "outputId": "b1efcfbb-9410-402b-e200-2910a3d8d4e7"
      },
      "source": [
        "# Funciones lambda, funciones anonimas\n",
        "\n",
        "fibonacci = (lambda x:1 if x <= 2 else \n",
        "             fibonacci(x-1) + fibonacci(x-2))\n",
        "\n",
        "fibonacci(10)\n"
      ],
      "execution_count": 96,
      "outputs": [
        {
          "output_type": "execute_result",
          "data": {
            "text/plain": [
              "55"
            ]
          },
          "metadata": {
            "tags": []
          },
          "execution_count": 96
        }
      ]
    },
    {
      "cell_type": "markdown",
      "metadata": {
        "id": "W_RYPa5ghS9z",
        "colab_type": "text"
      },
      "source": [
        "### Clases en python "
      ]
    },
    {
      "cell_type": "code",
      "metadata": {
        "id": "tSuDevcnggvP",
        "colab_type": "code",
        "colab": {}
      },
      "source": [
        "# Definición e iniciación de clases\n",
        "class Calculadora(object):\n",
        "    \"\"\"Clase de una calculadora\"\"\"\n",
        "\n",
        "    def __init__(self):\n",
        "        \"\"\"Inicializa la clase calculadora\"\"\"\n",
        "        self.valor = 0\n",
        "\n",
        "    def suma(self,n):\n",
        "        \"\"\"suma un numero n al valor\"\"\"\n",
        "        self.valor += n\n",
        "\n",
        "    def getValor(self):\n",
        "        \"\"\"obtiene el valor\"\"\"\n",
        "        return self.valor"
      ],
      "execution_count": 100,
      "outputs": []
    },
    {
      "cell_type": "code",
      "metadata": {
        "id": "LYfoYj6vi2RR",
        "colab_type": "code",
        "colab": {
          "base_uri": "https://localhost:8080/",
          "height": 52
        },
        "outputId": "58bccc08-a0e9-4ec7-ba2d-ae10e4269f10"
      },
      "source": [
        "calc = Calculadora() # iniciar la clase\n",
        "calc.suma(2)\n",
        "print (calc.getValor())\n",
        "calc.suma(2)\n",
        "print (calc.getValor())"
      ],
      "execution_count": 101,
      "outputs": [
        {
          "output_type": "stream",
          "text": [
            "2\n",
            "4\n"
          ],
          "name": "stdout"
        }
      ]
    },
    {
      "cell_type": "code",
      "metadata": {
        "id": "DNvM0PHGi6ZS",
        "colab_type": "code",
        "colab": {
          "base_uri": "https://localhost:8080/",
          "height": 35
        },
        "outputId": "77844865-5424-481a-f3f2-59f9b22be716"
      },
      "source": [
        "vec = [1, 2, 3]\n",
        "it = iter(vec) # iterador\n",
        "\n",
        "next(it)"
      ],
      "execution_count": 102,
      "outputs": [
        {
          "output_type": "execute_result",
          "data": {
            "text/plain": [
              "1"
            ]
          },
          "metadata": {
            "tags": []
          },
          "execution_count": 102
        }
      ]
    },
    {
      "cell_type": "code",
      "metadata": {
        "id": "KL_Ba7bbm6T3",
        "colab_type": "code",
        "colab": {
          "base_uri": "https://localhost:8080/",
          "height": 35
        },
        "outputId": "dffa9076-ab87-4815-e5c0-78e3ab400cbd"
      },
      "source": [
        "next(it)"
      ],
      "execution_count": 103,
      "outputs": [
        {
          "output_type": "execute_result",
          "data": {
            "text/plain": [
              "2"
            ]
          },
          "metadata": {
            "tags": []
          },
          "execution_count": 103
        }
      ]
    },
    {
      "cell_type": "code",
      "metadata": {
        "id": "l7cuY6W8nIEX",
        "colab_type": "code",
        "colab": {
          "base_uri": "https://localhost:8080/",
          "height": 35
        },
        "outputId": "7610c0b0-5953-48ac-bd00-fb2b2ca4c4e7"
      },
      "source": [
        "type(vec) # iterable"
      ],
      "execution_count": 104,
      "outputs": [
        {
          "output_type": "execute_result",
          "data": {
            "text/plain": [
              "list"
            ]
          },
          "metadata": {
            "tags": []
          },
          "execution_count": 104
        }
      ]
    },
    {
      "cell_type": "code",
      "metadata": {
        "id": "w8-e1PyaoxDs",
        "colab_type": "code",
        "colab": {
          "base_uri": "https://localhost:8080/",
          "height": 35
        },
        "outputId": "265d6418-409c-4927-e915-2d35067448a3"
      },
      "source": [
        "type(it) # iterador"
      ],
      "execution_count": 105,
      "outputs": [
        {
          "output_type": "execute_result",
          "data": {
            "text/plain": [
              "list_iterator"
            ]
          },
          "metadata": {
            "tags": []
          },
          "execution_count": 105
        }
      ]
    },
    {
      "cell_type": "markdown",
      "metadata": {
        "id": "aKdL4DR7qFIT",
        "colab_type": "text"
      },
      "source": [
        "### Decoradores\n",
        "\n",
        "Ejecucciones que se hacen pre o post procesamiento de una función"
      ]
    },
    {
      "cell_type": "code",
      "metadata": {
        "id": "DA1JZV8Xo0fK",
        "colab_type": "code",
        "colab": {
          "base_uri": "https://localhost:8080/",
          "height": 35
        },
        "outputId": "ac457533-4cde-4198-85b2-5058eb7e9bd0"
      },
      "source": [
        "# sin decorador\n",
        "def voy_a_imprimir_Hola():\n",
        "    print(\"Hola\")\n",
        "\n",
        "voy_a_imprimir_Hola()"
      ],
      "execution_count": 106,
      "outputs": [
        {
          "output_type": "stream",
          "text": [
            "Hola\n"
          ],
          "name": "stdout"
        }
      ]
    },
    {
      "cell_type": "code",
      "metadata": {
        "id": "uXFGLchnqxtd",
        "colab_type": "code",
        "colab": {
          "base_uri": "https://localhost:8080/",
          "height": 70
        },
        "outputId": "8b80059e-138e-4606-8a0e-f1acbee88c7b"
      },
      "source": [
        "# con decorador\n",
        "def voy_a_imprimir_Hola():\n",
        "    print(\"Hola\")\n",
        "\n",
        "def my_decorator(func):\n",
        "    def wrapper ():\n",
        "        print(\"[Aviso: voy a decir algo]\")\n",
        "        func ()\n",
        "        print(\"[Aviso: ya he dicho algo]\")\n",
        "    return wrapper\n",
        "\n",
        "voy_a_imprimir_Hola = my_decorator(voy_a_imprimir_Hola)\n",
        "\n",
        "voy_a_imprimir_Hola ()"
      ],
      "execution_count": 107,
      "outputs": [
        {
          "output_type": "stream",
          "text": [
            "[Aviso: voy a decir algo]\n",
            "Hola\n",
            "[Aviso: ya he dicho algo]\n"
          ],
          "name": "stdout"
        }
      ]
    },
    {
      "cell_type": "code",
      "metadata": {
        "id": "b-Jtrs_krtuO",
        "colab_type": "code",
        "colab": {}
      },
      "source": [
        "# se puede hacer uso de los decoradores mediante la siguiente estructura\n",
        "@my_decorator \n",
        "def voy_a_imprimir_Hola():\n",
        "    print(\"Hola\")"
      ],
      "execution_count": 108,
      "outputs": []
    },
    {
      "cell_type": "code",
      "metadata": {
        "id": "2iCok6oKubIH",
        "colab_type": "code",
        "colab": {
          "base_uri": "https://localhost:8080/",
          "height": 70
        },
        "outputId": "fb7fd022-88be-485e-fe75-2c6d35f3d627"
      },
      "source": [
        "voy_a_imprimir_Hola()"
      ],
      "execution_count": 110,
      "outputs": [
        {
          "output_type": "stream",
          "text": [
            "[Aviso: voy a decir algo]\n",
            "Hola\n",
            "[Aviso: ya he dicho algo]\n"
          ],
          "name": "stdout"
        }
      ]
    },
    {
      "cell_type": "markdown",
      "metadata": {
        "id": "mcWRxs6NyO5i",
        "colab_type": "text"
      },
      "source": [
        "## Tensores\n",
        "\n",
        "es un array multidimencional de *Numpy*, los tensores se usan como estructura básica de datos.\n",
        "\n",
        "Un **tensor** tiene tres atributos principales: número de ejes, forma y tipo de datos. \n",
        "\n",
        "* **Numero de ejes (rank):** es un numero que muestra la cantidad de dimensiones en él. Un escalar (0D) es un tensor con un solo número. Un array de números es un vector o tensor de 1D. Un array de vectores es una matriz o tensor de 2D. Con esta estructura se pueden tener tensores de nD (n número de dimsniones). En NumPy a esto se le llama *ndim* del tensor\n",
        "\n",
        "* **Forma:** es una tupla con la cantidad de items en cada eje. En NumPy a esto se le llama *shape*. Un escalar tiene shape vacío ()\n",
        "\n",
        "* **Tipo de datos:** Indica el tipo de dato que contiene el tensor. En NumPy a esto se le llama *dtype*\n",
        "\n"
      ]
    },
    {
      "cell_type": "code",
      "metadata": {
        "id": "c6Lhe9AtueUa",
        "colab_type": "code",
        "colab": {}
      },
      "source": [
        "# Tensor en NumPy\n",
        "\n",
        "import numpy as np\n",
        "\n",
        "def mostrar_tensor(x):\n",
        "    print(\"x: \\n \",x)\n",
        "    print(\"x ndim: \",x.ndim)\n",
        "    print(\"x shape: \", x.shape)\n",
        "    print(\"x size: \",x.size)\n",
        "    print(\"x dtype: \",x.dtype)"
      ],
      "execution_count": 119,
      "outputs": []
    },
    {
      "cell_type": "code",
      "metadata": {
        "id": "ymVmhVfD1-mj",
        "colab_type": "code",
        "colab": {
          "base_uri": "https://localhost:8080/",
          "height": 122
        },
        "outputId": "6b002084-525d-4534-8c59-4280c58df90c"
      },
      "source": [
        "# para un escalar\n",
        "x = np.array(8)\n",
        "\n",
        "mostrar_tensor(x)"
      ],
      "execution_count": 120,
      "outputs": [
        {
          "output_type": "stream",
          "text": [
            "x: \n",
            "  8\n",
            "x ndim:  0\n",
            "x shape:  ()\n",
            "x size:  1\n",
            "x dtype:  int64\n"
          ],
          "name": "stdout"
        }
      ]
    },
    {
      "cell_type": "code",
      "metadata": {
        "id": "OjRw-SfF2-Ot",
        "colab_type": "code",
        "colab": {
          "base_uri": "https://localhost:8080/",
          "height": 122
        },
        "outputId": "19f650c9-b331-48bb-c122-c2e81bfdbafa"
      },
      "source": [
        "# para un vector\n",
        "\n",
        "x = np.array([2.3,4.2,3.3,1.8])\n",
        "\n",
        "mostrar_tensor(x)"
      ],
      "execution_count": 121,
      "outputs": [
        {
          "output_type": "stream",
          "text": [
            "x: \n",
            "  [2.3 4.2 3.3 1.8]\n",
            "x ndim:  1\n",
            "x shape:  (4,)\n",
            "x size:  4\n",
            "x dtype:  float64\n"
          ],
          "name": "stdout"
        }
      ]
    },
    {
      "cell_type": "code",
      "metadata": {
        "id": "UNHYgDNN3Ql5",
        "colab_type": "code",
        "colab": {
          "base_uri": "https://localhost:8080/",
          "height": 193
        },
        "outputId": "29c2b1d1-b2c6-45c5-ca49-73dd87f7fe8c"
      },
      "source": [
        "# para una matriz 2D\n",
        "x = np.array([[[1,2],[3,4]],[[5,6],[7,8]]])\n",
        "\n",
        "mostrar_tensor(x)"
      ],
      "execution_count": 122,
      "outputs": [
        {
          "output_type": "stream",
          "text": [
            "x: \n",
            "  [[[1 2]\n",
            "  [3 4]]\n",
            "\n",
            " [[5 6]\n",
            "  [7 8]]]\n",
            "x ndim:  3\n",
            "x shape:  (2, 2, 2)\n",
            "x size:  8\n",
            "x dtype:  int64\n"
          ],
          "name": "stdout"
        }
      ]
    },
    {
      "cell_type": "code",
      "metadata": {
        "id": "MN9jgsch3ruO",
        "colab_type": "code",
        "colab": {
          "base_uri": "https://localhost:8080/",
          "height": 298
        },
        "outputId": "80f51819-06f8-43c8-fc1e-ecc55f1de61f"
      },
      "source": [
        "# Funciones de Numpy para crear tensores rapidamente\n",
        "\n",
        "print(\"np.zeros((3,3)): \\n\", np.zeros((3,3)))\n",
        "print(\"np.ones((3,3)): \\n\", np.ones((3,3)))\n",
        "print(\"np.eye((3)): \\n\", np.eye((3)))\n",
        "print(\"np.random.random((3,3)): \\n\", np.random.random((3,3)))"
      ],
      "execution_count": 123,
      "outputs": [
        {
          "output_type": "stream",
          "text": [
            "np.zeros((3,3)): \n",
            " [[0. 0. 0.]\n",
            " [0. 0. 0.]\n",
            " [0. 0. 0.]]\n",
            "np.ones((3,3)): \n",
            " [[1. 1. 1.]\n",
            " [1. 1. 1.]\n",
            " [1. 1. 1.]]\n",
            "np.eye((3)): \n",
            " [[1. 0. 0.]\n",
            " [0. 1. 0.]\n",
            " [0. 0. 1.]]\n",
            "np.random.random((3,3)): \n",
            " [[0.3604038  0.95126353 0.94329763]\n",
            " [0.71598144 0.52319944 0.09161609]\n",
            " [0.94669471 0.70072308 0.66250434]]\n"
          ],
          "name": "stdout"
        }
      ]
    },
    {
      "cell_type": "markdown",
      "metadata": {
        "id": "mbBDTomG5SF3",
        "colab_type": "text"
      },
      "source": [
        "### Manipulación de tensores"
      ]
    },
    {
      "cell_type": "code",
      "metadata": {
        "id": "hgqGWaxm5M_U",
        "colab_type": "code",
        "colab": {}
      },
      "source": [
        ""
      ],
      "execution_count": null,
      "outputs": []
    }
  ]
}